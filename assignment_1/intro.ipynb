{
 "cells": [
  {
   "cell_type": "markdown",
   "metadata": {},
   "source": [
    "# Intelligent Systems 2022: Practical Assignment No 1\n",
    "\n",
    "This is the first assignment for Intelligent Systems. Since we are only starting, we will try to keep it short and will try to get you familiar with some basic data structures and will have a first look at search algorithms.\n",
    "\n",
    "\n",
    "\n",
    "## Graphs, Trees, and a bit of Search"
   ]
  },
  {
   "cell_type": "markdown",
   "metadata": {},
   "source": [
    "Your name: \n",
    "\n",
    "Your VUNetID: \n",
    "\n",
    "If you do not provide your name and VUNetID we will not accept your submission. \n",
    "\n",
    "### Learning objectives\n",
    "\n",
    "At the end of this exercise you should be able to understand basic ideas on how to represent graphs and trees in python. Furthermore, we will have a look into search algorithms in trees.\n",
    "\n",
    "1. Understanding graph datastructures\n",
    "2. Make small modifications of the code to implement a tree datastructure\n",
    "3. Modify a tree search algorithm\n",
    "\n",
    "### Practicalities\n",
    "\n",
    "Follow this Notebook step-by-step. \n",
    "\n",
    "Of course, you can do the exercises in any Programming Editor of your liking. \n",
    "But you do not have to. Feel free to simply write code in the Notebook. Please use your studentID+Assignment1.ipynb as the name of the Notebook.  \n",
    "\n",
    "Note: Unlike the courses dedicated to programming we will not evaluate the style of the programs. But we will, however, test your programs on other data that we provide, and your program should give the correct output to the test-data as well.\n",
    "\n",
    "As was mentioned, the assignment is graded as pass/fail. To pass you need to have either a full working code or an explanation of what you tried and what didn't work for the tasks that you were unable to complete (you can use multi-line comments or a text cell).\n",
    "\n",
    "## Initialising \n",
    "\n",
    "First, let us make sure the necessary packages are installed, and imported. Run the following code:"
   ]
  },
  {
   "cell_type": "code",
   "execution_count": null,
   "metadata": {},
   "outputs": [],
   "source": [
    "import sys\n",
    "!{sys.executable} -m pip install numpy\n",
    "!{sys.executable} -m pip install networkx\n",
    "!{sys.executable} -m pip install decorator==5.0.9\n",
    "import datetime\n",
    "import numpy as np\n",
    "from numpy import random\n",
    "\n",
    "\n",
    "# This might produce a warning that numpy is already installed. "
   ]
  },
  {
   "cell_type": "markdown",
   "metadata": {},
   "source": [
    "## Representing Graphs in Python\n",
    "\n",
    "\n",
    "\n",
    "<img src=\"graph.png\" width=\"300\"/>\n",
    "\n",
    "\n",
    "### Graph with Dictionaries\n",
    "\n",
    "#### Task 1\n",
    "Represent the graph from the figure as in a Python dictionary and describe your datastructure."
   ]
  },
  {
   "cell_type": "code",
   "execution_count": null,
   "metadata": {},
   "outputs": [],
   "source": [
    "# Write your code here\n",
    "\n"
   ]
  },
  {
   "cell_type": "code",
   "execution_count": null,
   "metadata": {},
   "outputs": [],
   "source": [
    "dict_graph_explanation = \"\"\"\n",
    "Describe what you did here\n",
    "\"\"\""
   ]
  },
  {
   "cell_type": "markdown",
   "metadata": {},
   "source": [
    "### Graph with Adjacency Matrices\n",
    "\n",
    "As mentioned in the working groups and the 1st working group exercise sheet, you can represent graphs also as adjancency matrices with 0 and 1. This is a standard format for representing graphs that we therefore will also explore practically.\n",
    "\n",
    "\n",
    "#### Task 2\n",
    "Come up with your own adjacency matrix representation for the graph from above in Python.\n",
    "Then describe what you did in a couple of sentences."
   ]
  },
  {
   "cell_type": "code",
   "execution_count": null,
   "metadata": {},
   "outputs": [],
   "source": [
    "# Write your adjacency matrix code here\n",
    "# 0 = a, 1 = b, 2 = c, 3 = d, 4 = e, 5 = f\n",
    "\n",
    "\n",
    "    "
   ]
  },
  {
   "cell_type": "code",
   "execution_count": null,
   "metadata": {},
   "outputs": [],
   "source": [
    "\n",
    "\n",
    "adj_graph_explanation = \"\"\"\n",
    "Describe what you did here\n",
    "\"\"\"\n",
    "\n"
   ]
  },
  {
   "cell_type": "markdown",
   "metadata": {},
   "source": [
    "## Representing Trees in Python\n",
    "\n",
    "As for many abstract datastructures, there is many ways on how to represent them in Python. In this tasks, we will have a look at some helpful representations for graphs and trees. \n",
    "There are actually many more that you will encounter throughout your studies, because graphs and trees are maybe the most important data structures in AI and computer science.\n"
   ]
  },
  {
   "cell_type": "markdown",
   "metadata": {},
   "source": [
    "### Binary Trees"
   ]
  },
  {
   "cell_type": "code",
   "execution_count": null,
   "metadata": {},
   "outputs": [],
   "source": [
    "class Node:\n",
    "    def __init__(self, val):\n",
    "        self.left = None\n",
    "        self.right = None\n",
    "        self.value = val\n",
    "\n",
    "class Tree:\n",
    "    def __init__(self):\n",
    "        self.root = None\n",
    "\n",
    "    def getRoot(self):\n",
    "        return self.root\n",
    "\n",
    "    def add(self, val):\n",
    "        if self.root is None:\n",
    "            self.root = Node(val)\n",
    "        else:\n",
    "            self._add(val, self.root)\n",
    "\n",
    "    def _add(self, val, node):\n",
    "        if val < node.value:\n",
    "            if node.left is not None:\n",
    "                self._add(val, node.left)\n",
    "            else:\n",
    "                node.left = Node(val)\n",
    "        else:\n",
    "            if node.right is not None:\n",
    "                self._add(val, node.right)\n",
    "            else:\n",
    "                node.right = Node(val)\n",
    "\n",
    "    def search(self, v):\n",
    "        \"\"\"\n",
    "        Perform binary search to find the node with the input value\n",
    "        \"\"\"\n",
    "        if self.root is None:\n",
    "            return None\n",
    "        else:\n",
    "        #Some code is missing here\n",
    "\n",
    "    \n",
    "    def _search(self, v, node):\n",
    "        if node.value == v:\n",
    "            print(f\"Found {node.value}\")\n",
    "            return node\n",
    "        elif (node.left is not None and node.value > v):\n",
    "        #Some code is missing here\n",
    "\n",
    "\n",
    "\n"
   ]
  },
  {
   "cell_type": "markdown",
   "metadata": {},
   "source": [
    "Try to play around with the code of the binary tree to get an idea of what exactly is happening. \n",
    "Also try to draw a binary tree on paper, to get a better idea of what it is."
   ]
  },
  {
   "cell_type": "markdown",
   "metadata": {},
   "source": [
    "### Task 3\n",
    "Add 20 nodes to the binary tree and complete the method that searches for the node with a certain value.\n",
    "Afterwards describe the algorithm and the idea of your algorithm in at least 5 sentences.\n",
    "\n",
    "*Hint: It might be a good idea to have a closer look at the add function to complete the search function*"
   ]
  },
  {
   "cell_type": "code",
   "execution_count": null,
   "metadata": {},
   "outputs": [],
   "source": [
    "explain_binary=\"\"\"\n",
    "Put your explanation here\n",
    "\"\"\""
   ]
  },
  {
   "cell_type": "markdown",
   "metadata": {},
   "source": [
    "## NetworkX\n",
    "\n",
    "In the next step, we will have a look at one of Python's most popular libraries for graphs and trees.\n",
    "You can have a quick look at the [libraries tutorial](https://networkx.org/documentation/stable/tutorial.html) to get an idea on how it works.\n",
    "\n",
    "\n",
    "As a first example, we can initialize a graph object from the adjacency matrix that you have created above.\n",
    "And we will also draw this graph.\n",
    "If this does not work, try to reinstall the packages from above and reboot the notebook.\n",
    "There might be an issue with the *Decorator* package. \n",
    "\n",
    "Afterwards, we will look into creating a tree manually.\n"
   ]
  },
  {
   "cell_type": "code",
   "execution_count": null,
   "metadata": {},
   "outputs": [],
   "source": [
    "import networkx as nx\n",
    "G = nx.from_numpy_matrix(np.array(adj_graph))\n",
    "nx.draw(G)"
   ]
  },
  {
   "cell_type": "markdown",
   "metadata": {},
   "source": [
    "### Task 4\n",
    "\n",
    "Create a new NetworkX graph and manually add nodes and edges, so that you end up with a full 3-ary tree of depth 2.\n",
    "\n",
    "Afterwards, use the draw function to check, if it worked out."
   ]
  },
  {
   "cell_type": "code",
   "execution_count": null,
   "metadata": {},
   "outputs": [],
   "source": [
    "#Put your solution here.\n"
   ]
  },
  {
   "cell_type": "markdown",
   "metadata": {},
   "source": [
    "### Final Task: Collect all the results\n",
    "\n",
    "Fill in your student number in the variable and then run this cell (and all the cells above) to generate the text file that you have to hand in together with the notebook on canvas!"
   ]
  },
  {
   "cell_type": "code",
   "execution_count": null,
   "metadata": {},
   "outputs": [],
   "source": [
    "def exportToText(*args):\n",
    "    with open(args[0], \"w\") as f:\n",
    "        for argument in args:\n",
    "            f.write(\"{}\\n\".format(argument))\n",
    "\n",
    "exportToText(\"assignment1.txt\",STUDENT_NUMBER, dict_graph_explanation, adj_graph_explanation, explain_binary)"
   ]
  }
 ],
 "metadata": {
  "kernelspec": {
   "display_name": "Python 3",
   "language": "python",
   "name": "python3"
  },
  "language_info": {
   "codemirror_mode": {
    "name": "ipython",
    "version": 3
   },
   "file_extension": ".py",
   "mimetype": "text/x-python",
   "name": "python",
   "nbconvert_exporter": "python",
   "pygments_lexer": "ipython3",
   "version": "3.8.8"
  }
 },
 "nbformat": 4,
 "nbformat_minor": 4
}
