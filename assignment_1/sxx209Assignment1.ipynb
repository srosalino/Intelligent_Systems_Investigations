{
 "cells": [
  {
   "cell_type": "markdown",
   "metadata": {},
   "source": [
    "# Intelligent Systems 2022: Practical Assignment No 1\n",
    "\n",
    "This is the first assignment for Intelligent Systems. Since we are only starting, we will try to keep it short and will try to get you familiar with some basic data structures and will have a first look at search algorithms.\n",
    "\n",
    "\n",
    "\n",
    "## Graphs, Trees, and a bit of Search"
   ]
  },
  {
   "cell_type": "markdown",
   "metadata": {},
   "source": [
    "Your name: Sebastião Manuel Inácio Rosalino\n",
    "\n",
    "Your VUNetID: sxx209  \n",
    "\n",
    "If you do not provide your name and VUNetID we will not accept your submission. \n",
    "\n",
    "### Learning objectives\n",
    "\n",
    "At the end of this exercise you should be able to understand basic ideas on how to represent graphs and trees in python. Furthermore, we will have a look into search algorithms in trees.\n",
    "\n",
    "1. Understanding graph datastructures\n",
    "2. Make small modifications of the code to implement a tree datastructure\n",
    "3. Modify a tree search algorithm\n",
    "\n",
    "### Practicalities\n",
    "\n",
    "Follow this Notebook step-by-step. \n",
    "\n",
    "Of course, you can do the exercises in any Programming Editor of your liking. \n",
    "But you do not have to. Feel free to simply write code in the Notebook. Please use your studentID+Assignment1.ipynb as the name of the Notebook.  \n",
    "\n",
    "Note: Unlike the courses dedicated to programming we will not evaluate the style of the programs. But we will, however, test your programs on other data that we provide, and your program should give the correct output to the test-data as well.\n",
    "\n",
    "As was mentioned, the assignment is graded as pass/fail. To pass you need to have either a full working code or an explanation of what you tried and what didn't work for the tasks that you were unable to complete (you can use multi-line comments or a text cell).\n",
    "\n",
    "## Initialising \n",
    "\n",
    "First, let us make sure the necessary packages are installed, and imported. Run the following code:"
   ]
  },
  {
   "cell_type": "code",
   "execution_count": 1,
   "metadata": {},
   "outputs": [
    {
     "name": "stdout",
     "output_type": "stream",
     "text": [
      "Requirement already satisfied: numpy in c:\\users\\sebas\\anaconda3\\envs\\main_env\\lib\\site-packages (1.22.3)\n",
      "Requirement already satisfied: networkx in c:\\users\\sebas\\anaconda3\\envs\\main_env\\lib\\site-packages (2.8)\n",
      "Requirement already satisfied: decorator==5.0.9 in c:\\users\\sebas\\anaconda3\\envs\\main_env\\lib\\site-packages (5.0.9)\n"
     ]
    }
   ],
   "source": [
    "import sys\n",
    "!{sys.executable} -m pip install numpy\n",
    "!{sys.executable} -m pip install networkx\n",
    "!{sys.executable} -m pip install decorator==5.0.9\n",
    "import datetime\n",
    "import numpy as np\n",
    "from numpy import random\n",
    "\n",
    "\n",
    "# This might produce a warning that numpy is already installed. "
   ]
  },
  {
   "cell_type": "markdown",
   "metadata": {},
   "source": [
    "## Representing Graphs in Python\n",
    "\n",
    "\n",
    "\n",
    "<img src=\"graph.png\" width=\"300\"/>\n",
    "\n",
    "\n",
    "### Graph with Dictionaries\n",
    "\n",
    "#### Task 1\n",
    "Represent the graph from the figure as in a Python dictionary and describe your datastructure."
   ]
  },
  {
   "cell_type": "code",
   "execution_count": 2,
   "metadata": {},
   "outputs": [],
   "source": [
    "# Write your code here\n",
    "\n",
    "dict_graph = {'nodes': set(('a', 'b', 'c', 'd', 'e', 'f')),\n",
    "              'edges': set([frozenset(['a','b']), frozenset(['b','c']), frozenset(['b','d']), frozenset(['c','f']), frozenset(['c','e']),\n",
    "                           frozenset(['c','d'])])} "
   ]
  },
  {
   "cell_type": "code",
   "execution_count": 3,
   "metadata": {},
   "outputs": [
    {
     "data": {
      "text/plain": [
       "{'nodes': {'a', 'b', 'c', 'd', 'e', 'f'},\n",
       " 'edges': {frozenset({'b', 'c'}),\n",
       "  frozenset({'a', 'b'}),\n",
       "  frozenset({'c', 'e'}),\n",
       "  frozenset({'c', 'f'}),\n",
       "  frozenset({'b', 'd'}),\n",
       "  frozenset({'c', 'd'})}}"
      ]
     },
     "execution_count": 3,
     "metadata": {},
     "output_type": "execute_result"
    }
   ],
   "source": [
    "# Printing the dictionary representing the graph\n",
    "\n",
    "dict_graph"
   ]
  },
  {
   "cell_type": "code",
   "execution_count": 4,
   "metadata": {},
   "outputs": [],
   "source": [
    "dict_graph_explanation = \"\"\"\n",
    "\n",
    "    I created a Python dictionary to represent the graph from the figure. This dictionary variable was named dict_graph and it is \n",
    "composed of two keys, namely 'nodes' and 'edges'.\n",
    "    On the one hand, the dictionary key 'nodes' comprises the nodes of the graph and, therefore, will have the set of nodes \n",
    "{a, b, c, d, e, f} as its values.\n",
    "    On the other hand, the key 'edges' comprises the edges of the graph responsible for establishing the relations between the graph's nodes,\n",
    "and, therefore, will have the set of edges { {'a', 'b'}, {'b','c'}, {'b', 'd'}, {'c', 'f'}, {'c', 'e'}, {'c', 'd'} } as its values. \n",
    "Noteworthy to mention that as we are dealing with an undirected graph, every edge disconsiders any sense of direction, treats both end \n",
    "nodes samely and, thus, is represented as a set.\n",
    "\n",
    "\"\"\""
   ]
  },
  {
   "cell_type": "markdown",
   "metadata": {},
   "source": [
    "### Graph with Adjacency Matrices\n",
    "\n",
    "As mentioned in the working groups and the 1st working group exercise sheet, you can represent graphs also as adjancency matrices with 0 and 1. This is a standard format for representing graphs that we therefore will also explore practically.\n",
    "\n",
    "\n",
    "#### Task 2\n",
    "Come up with your own adjacency matrix representation for the graph from above in Python.\n",
    "Then describe what you did in a couple of sentences."
   ]
  },
  {
   "cell_type": "code",
   "execution_count": 5,
   "metadata": {},
   "outputs": [],
   "source": [
    "# Write your adjacency matrix code here\n",
    "# 0 = a, 1 = b, 2 = c, 3 = d, 4 = e, 5 = f\n",
    "\n",
    "\n",
    "adjacency_matrix = np.matrix([[0, 1, 0, 0, 0, 0], [1, 0, 1, 1, 0, 0], [0, 1, 0, 1, 1, 1], [0, 1, 1, 0, 0, 0], [0, 0, 1, 0, 0, 0], \n",
    "                              [0, 0, 1, 0, 0, 0]]) "
   ]
  },
  {
   "cell_type": "code",
   "execution_count": 6,
   "metadata": {},
   "outputs": [
    {
     "data": {
      "text/plain": [
       "matrix([[0, 1, 0, 0, 0, 0],\n",
       "        [1, 0, 1, 1, 0, 0],\n",
       "        [0, 1, 0, 1, 1, 1],\n",
       "        [0, 1, 1, 0, 0, 0],\n",
       "        [0, 0, 1, 0, 0, 0],\n",
       "        [0, 0, 1, 0, 0, 0]])"
      ]
     },
     "execution_count": 6,
     "metadata": {},
     "output_type": "execute_result"
    }
   ],
   "source": [
    "# Printing the numpy matrix representing the adjacency matrix\n",
    "\n",
    "adjacency_matrix"
   ]
  },
  {
   "cell_type": "code",
   "execution_count": 7,
   "metadata": {},
   "outputs": [],
   "source": [
    "adj_graph_explanation = \"\"\"\n",
    "\n",
    "First I created a variable called 'adjacency matrix' which is a matrix object from the Numpy library. Then, I populated each entry [p, i]\n",
    "where p represents the index of the line and i the index of the columns of this matrix with 0 or 1. The entry [p, i] will be populated with 0 \n",
    "if there is no connection in the graph between nodes p and i. Otherwise, that is, if there is an edge responsible for establishing a \n",
    "connection between nodes p and i, the entry [p, i] will assume the value of 1. The examples of the nodes p and i will assume every of \n",
    "this graph's nodes {a, b, c, d, e, f}. For reasons of understanding, the matrix was built following the defined order, that is, \n",
    "the lines and columns follow the order: 0 = a, 1 = b, 2 = c, 3 = d, 4 = e, 5 = f.\n",
    "\n",
    "\"\"\""
   ]
  },
  {
   "cell_type": "markdown",
   "metadata": {},
   "source": [
    "## Representing Trees in Python\n",
    "\n",
    "As for many abstract datastructures, there is many ways on how to represent them in Python. In this tasks, we will have a look at some helpful representations for graphs and trees. \n",
    "There are actually many more that you will encounter throughout your studies, because graphs and trees are maybe the most important data structures in AI and computer science.\n"
   ]
  },
  {
   "cell_type": "markdown",
   "metadata": {},
   "source": [
    "### Binary Trees"
   ]
  },
  {
   "cell_type": "code",
   "execution_count": 8,
   "metadata": {},
   "outputs": [],
   "source": [
    "class Node:\n",
    "   \n",
    "    def __init__(self, value=None):\n",
    "        self.value = value\n",
    "        self.left_child = None\n",
    "        self.right_child = None\n",
    "\n",
    "        \n",
    "class Tree:\n",
    "  \n",
    "    def __init__(self):\n",
    "        self.root = None\n",
    "\n",
    "        \n",
    "    def getRoot(self):\n",
    "        return self.root\n",
    "\n",
    "    \n",
    "    def add(self, value):\n",
    "        if self.root is None:\n",
    "            self.root = Node(value)\n",
    "            return True\n",
    "        else:\n",
    "            return self._add(value, self.root)\n",
    "\n",
    "            \n",
    "    def _add(self, value, node):\n",
    "        \n",
    "        if value < node.value:\n",
    "            if node.left_child is not None:\n",
    "                self._add(value, node.left_child)\n",
    "            else:\n",
    "                node.left_child = Node(value)\n",
    "                \n",
    "        elif value > node.value:\n",
    "            if node.right_child is not None:\n",
    "                self._add(value, node.right_child)\n",
    "            else:\n",
    "                node.right_child = Node(value)\n",
    "                \n",
    "        else:\n",
    "            #print(\"No value was inserted since that value is already in the Tree\")\n",
    "            return False\n",
    "        return True\n",
    "\n",
    "            \n",
    "    def search(self, value_to_be_searched):\n",
    "        if self.root is None:\n",
    "            return None\n",
    "        else:\n",
    "            return self._search(value_to_be_searched, self.root)\n",
    "        \n",
    "\n",
    "    def _search(self, value_to_be_searched, node):\n",
    "        if node.value == value_to_be_searched:\n",
    "            print(f\"The node with value {node.value} has been successfully found in the Tree\")\n",
    "            return node\n",
    "        \n",
    "        elif (node.left_child is not None and node.value > value_to_be_searched):\n",
    "            self._search(value_to_be_searched, node.left_child)\n",
    "                \n",
    "        elif (node.right_child is not None and node.value < value_to_be_searched):\n",
    "            self._search(value_to_be_searched, node.right_child)\n",
    "            \n",
    "        else:\n",
    "            print(\"Could not find the element tried to be searched in the Tree\")\n",
    "                \n",
    "                \n",
    "    def visualize_tree(self):\n",
    "        if self.root != None:\n",
    "            self._visualize_tree(self.root, 0)\n",
    "            \n",
    "    def _visualize_tree(self, node, depth):\n",
    "        if node != None:\n",
    "            self._visualize_tree(node.left_child, depth + 1)\n",
    "            print(f\"Depth:{depth} Node:{node.value}\")\n",
    "            self._visualize_tree(node.right_child, depth + 1)"
   ]
  },
  {
   "cell_type": "markdown",
   "metadata": {},
   "source": [
    "Try to play around with the code of the binary tree to get an idea of what exactly is happening. \n",
    "Also try to draw a binary tree on paper, to get a better idea of what it is."
   ]
  },
  {
   "cell_type": "markdown",
   "metadata": {},
   "source": [
    "### Task 3\n",
    "Add 20 nodes to the binary tree and complete the method that searches for the node with a certain value.\n",
    "Afterwards describe the algorithm and the idea of your algorithm in at least 5 sentences.\n",
    "\n",
    "*Hint: It might be a good idea to have a closer look at the add function to complete the search function*"
   ]
  },
  {
   "cell_type": "code",
   "execution_count": 9,
   "metadata": {},
   "outputs": [],
   "source": [
    "# Adding the 20 nodes randomly\n",
    "\n",
    "T = Tree()\n",
    "\n",
    "import random \n",
    "\n",
    "number_of_inserted_nodes = 0\n",
    "\n",
    "while number_of_inserted_nodes < 20:\n",
    "    random_node = random.randint(0, 100)\n",
    "    if T.add(random_node):\n",
    "        number_of_inserted_nodes += 1"
   ]
  },
  {
   "cell_type": "code",
   "execution_count": 10,
   "metadata": {},
   "outputs": [
    {
     "name": "stdout",
     "output_type": "stream",
     "text": [
      "Depth:2 Node:0\n",
      "Depth:4 Node:1\n",
      "Depth:3 Node:4\n",
      "Depth:1 Node:9\n",
      "Depth:0 Node:18\n",
      "Depth:2 Node:30\n",
      "Depth:3 Node:36\n",
      "Depth:1 Node:37\n",
      "Depth:2 Node:40\n",
      "Depth:4 Node:47\n",
      "Depth:5 Node:48\n",
      "Depth:7 Node:52\n",
      "Depth:8 Node:56\n",
      "Depth:9 Node:65\n",
      "Depth:6 Node:66\n",
      "Depth:3 Node:75\n",
      "Depth:5 Node:82\n",
      "Depth:4 Node:90\n",
      "Depth:5 Node:99\n"
     ]
    }
   ],
   "source": [
    "# Visualizing the tree\n",
    "\n",
    "T.visualize_tree()"
   ]
  },
  {
   "cell_type": "code",
   "execution_count": 11,
   "metadata": {},
   "outputs": [],
   "source": [
    "explain_binary=\"\"\"\n",
    "\n",
    "To begin with, I finished the methods of the Tree class 'add' and 'search' as well as its '_search' and '_add' private methods. \n",
    "A new node will be added to the tree as a left child if its associated value is lower than its parent's, or it will be added as a \n",
    "right child if its added value is greater than its parent's. If the value of the node trying to be added is the same as its parent, \n",
    "it means that there is already a node with the same value present in the tree, so its addition makes no sense. \n",
    "Finally, the function will return True if the node was successfully added to the tree or False if the addition attempt was unsuccessful.\n",
    "\n",
    "Secondly, in the process of searching for a node in the tree, it will be found immediately if its associated value is equal to the root's.\n",
    "If it is smaller and the node where the search is in a given recursion (starting at the root) has a left child, the function will be \n",
    "called again with the difference that now the left child will be the new node where the search will continue its path.\n",
    "If it is greater and the node where the search is in a given recursion (starting at the root) has a right child, the function will be \n",
    "called again with the difference that now the right child will be the new node where the search will continue its path.\n",
    "Finally, if the search goes all the way through the tree and the current node is a leaf, obviously, without children, and the target node\n",
    "in the search has not been found, it is concluded that the node is simply not present in the tree.\n",
    "\n",
    "Finally, in order to test the algorithm, I added 20 nodes to the tree each with random values from 0 to 100 (I took into account the \n",
    "possible cases of generating the same number, hence the while loop that will be active while the tree does not have the 20 nodes required). \n",
    "This addition was confirmed with the subsequent visualization of the tree, showing each value of every node and its depth in the tree, \n",
    "as well as using the method 'search' that printed a success message (specified in the '_search' method) if the node was found\n",
    "in the tree, or failure (also specified from the '_search' method) if the node is not present in the tree.\n",
    "\n",
    "\"\"\""
   ]
  },
  {
   "cell_type": "markdown",
   "metadata": {},
   "source": [
    "## NetworkX\n",
    "\n",
    "In the next step, we will have a look at one of Python's most popular libraries for graphs and trees.\n",
    "You can have a quick look at the [libraries tutorial](https://networkx.org/documentation/stable/tutorial.html) to get an idea on how it works.\n",
    "\n",
    "\n",
    "As a first example, we can initialize a graph object from the adjacency matrix that you have created above.\n",
    "And we will also draw this graph.\n",
    "If this does not work, try to reinstall the packages from above and reboot the notebook.\n",
    "There might be an issue with the *Decorator* package. \n",
    "\n",
    "Afterwards, we will look into creating a tree manually.\n"
   ]
  },
  {
   "cell_type": "code",
   "execution_count": 12,
   "metadata": {},
   "outputs": [
    {
     "data": {
      "image/png": "[encoded data removed]",
      "text/plain": [
       "<Figure size 432x288 with 1 Axes>"
      ]
     },
     "metadata": {},
     "output_type": "display_data"
    }
   ],
   "source": [
    "import networkx as nx\n",
    "G = nx.from_numpy_matrix(np.array(adjacency_matrix))\n",
    "nx.draw(G)"
   ]
  },
  {
   "cell_type": "markdown",
   "metadata": {},
   "source": [
    "### Task 4\n",
    "\n",
    "Create a new NetworkX graph and manually add nodes and edges, so that you end up with a full 3-ary tree of depth 2.\n",
    "\n",
    "Afterwards, use the draw function to check, if it worked out."
   ]
  },
  {
   "cell_type": "code",
   "execution_count": 13,
   "metadata": {},
   "outputs": [],
   "source": [
    "# Put your solution here.\n",
    "\n",
    "S = nx.Graph()\n",
    "\n",
    "\n",
    "# Adding the 13 nodes (with values ranging from 0 to 12) needed for a full 3-ary tree of depth 2\n",
    "\n",
    "for i in range(13):\n",
    "    S.add_node(i)\n",
    "    \n",
    "    \n",
    "# Establishing the edges    \n",
    "\n",
    "def add_edges(initial_node, number_of_children, first_child, graph):\n",
    "    for i in range(number_of_children):\n",
    "        graph.add_edge(initial_node, first_child + i)\n",
    "    return first_child + number_of_children\n",
    "\n",
    "# We know that, to begin, the first child of the root with value 0 will be a node with value 1\n",
    "\n",
    "first_child = 1 \n",
    "\n",
    "# We will iterate through the edge adding process 3 times since the tree depth must be 2 (0, 1, 2)\n",
    "\n",
    "for i in range(4):\n",
    "    first_child = add_edges(i, 3, first_child, S)"
   ]
  },
  {
   "cell_type": "code",
   "execution_count": 14,
   "metadata": {},
   "outputs": [
    {
     "data": {
      "image/png": "[encoded data removed]",
      "text/plain": [
       "<Figure size 432x288 with 1 Axes>"
      ]
     },
     "metadata": {},
     "output_type": "display_data"
    }
   ],
   "source": [
    "nx.draw(S)"
   ]
  },
  {
   "cell_type": "markdown",
   "metadata": {},
   "source": [
    "### Final Task: Collect all the results\n",
    "\n",
    "Fill in your student number in the variable and then run this cell (and all the cells above) to generate the text file that you have to hand in together with the notebook on canvas!"
   ]
  },
  {
   "cell_type": "code",
   "execution_count": 15,
   "metadata": {},
   "outputs": [],
   "source": [
    "def exportToText(*args):\n",
    "    with open(args[0], \"w\") as f:\n",
    "        for argument in args:\n",
    "            f.write(\"{}\\n\".format(argument))\n",
    "\n",
    "exportToText(\"assignment1.txt\",2781583, dict_graph_explanation, adj_graph_explanation, explain_binary)"
   ]
  }
 ],
 "metadata": {
  "kernelspec": {
   "display_name": "Python 3 (ipykernel)",
   "language": "python",
   "name": "python3"
  },
  "language_info": {
   "codemirror_mode": {
    "name": "ipython",
    "version": 3
   },
   "file_extension": ".py",
   "mimetype": "text/x-python",
   "name": "python",
   "nbconvert_exporter": "python",
   "pygments_lexer": "ipython3",
   "version": "3.10.4"
  }
 },
 "nbformat": 4,
 "nbformat_minor": 4
}
