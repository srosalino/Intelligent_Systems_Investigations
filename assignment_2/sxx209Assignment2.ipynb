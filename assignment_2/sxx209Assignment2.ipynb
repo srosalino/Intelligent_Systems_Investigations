{
 "cells": [
  {
   "cell_type": "markdown",
   "metadata": {},
   "source": [
    "# Intelligent Systems 2022: 2. practical assignment \n",
    "## Uninformed Search "
   ]
  },
  {
   "cell_type": "markdown",
   "metadata": {},
   "source": [
    "Your name: Sebastião Manuel Inácio Rosalino\n",
    "\n",
    "Your VUNetID: sxx209\n",
    "\n",
    "If you do not provide your name and VUNetID we will not accept your submission. \n",
    "\n",
    "### Learning objectives\n",
    "At the end of this exercise you should be able to understand the implementations of the basic algorithms for uninformed search, BFS, and DFS. You should be able to: \n",
    "\n",
    "1. Understand the algorithms (be able to explain in your own words) \n",
    "2. Follow the individual steps of the algorithms \n",
    "3. Make small modifications of the code to see the effect on the search algorithms\n",
    "4. Make small adaptations to the algorithm to study the computational properties\n",
    "\n",
    "### Practicalities\n",
    "\n",
    "Follow this Notebook step-by-step. \n",
    "\n",
    "Of course, you can do the exercises in any Programming Editor of your liking. \n",
    "But you do not have to. Feel free to simply write code in the Notebook. Please use your studentID+Assignment1.ipynb as the name of the \n",
    "Notebook.  \n",
    "\n",
    "Note: unlike the courses dedicated to programming we will not evaluate the style of the programs. But we will, however, test your programs on other data that we provide, and your program should give the correct output to the test-data as well.\n",
    "\n",
    "As was mentioned, the assignment is graded as pass/fail. To pass you need to have either a full working code or an explanation of what you tried and what didn't work for the tasks that you were unable to complete (you can use multi-line comments or a text cell).\n",
    "\n",
    "## Initialising \n",
    "\n",
    "First, let us make sure the necessary packages are installed, and imported. Run the following code:"
   ]
  },
  {
   "cell_type": "code",
   "execution_count": 1,
   "metadata": {},
   "outputs": [
    {
     "name": "stdout",
     "output_type": "stream",
     "text": [
      "Requirement already satisfied: numpy in c:\\users\\sebas\\anaconda3\\envs\\main_env\\lib\\site-packages (1.22.3)\n"
     ]
    }
   ],
   "source": [
    "import sys\n",
    "!{sys.executable} -m pip install numpy\n",
    "import datetime\n",
    "import numpy as np\n",
    "from numpy import random\n",
    "from collections import deque\n",
    "\n",
    "from utils import *\n",
    "\n",
    "# This might produce a warning that numpy is already installed. "
   ]
  },
  {
   "cell_type": "markdown",
   "metadata": {},
   "source": [
    "## Starting your first game"
   ]
  },
  {
   "cell_type": "code",
   "execution_count": 2,
   "metadata": {},
   "outputs": [],
   "source": [
    "HAND_SIZE = 5      #TODO: replace with your desired hand size (should not be higher than 10 or less than 1)\n",
    "STUDENT_NUMBER = 2781583 #TODO: replace with your own student number"
   ]
  },
  {
   "cell_type": "markdown",
   "metadata": {},
   "source": [
    "With the constant HAND_SIZE we decide how many cards we want in our hand. \n",
    "By default it is set to 5, you can change it to any hand size, \n",
    "do keep in mind that the higher the number of cards in your hand, \n",
    "the more branches in the search tree there are, and the longer it will take to run.\n",
    "\n",
    "Your student number is used to set a random seed.\n",
    "There are situations imaginable where you want a pseudo random selection (for example when debugging it's nice to always work with the same values)\n",
    "In short, the seed ensures that you get a pseudo random distribution that will always be the same when you re-run the code.\n",
    "It is a random distribution because you don't have to hard code them in yourself, \n",
    "but it is not random in the sense that the next time you run it you get different cards!\n",
    "For more information on pseudo random number generators, \n",
    "check out https://www.geeksforgeeks.org/pseudo-random-number-generator-prng/."
   ]
  },
  {
   "cell_type": "markdown",
   "metadata": {},
   "source": [
    "### Task 1\n",
    "\n",
    "You may wonder how the cards for this game are represented. \n",
    "Go to utils and find out in which variable this information is found, print this variable below:\n"
   ]
  },
  {
   "cell_type": "code",
   "execution_count": 3,
   "metadata": {},
   "outputs": [
    {
     "name": "stdout",
     "output_type": "stream",
     "text": [
      "\n",
      "        h  d  s  c\n",
      "ace  [[ 0  1  2  3]  = 11pts     h = hearts\n",
      "ten   [ 4  5  6  7]  = 10pts     d = diamonds\n",
      "king  [ 8  9 10 11]  = 4pts      s = spades\n",
      "queen [12 13 14 15]  = 3pts      c = clubs\n",
      "jack  [16 17 18 19]] = 2pts\n",
      "For example: '10' is 'king of spades'\n",
      "\n"
     ]
    }
   ],
   "source": [
    "#insert print statement here\n",
    "\n",
    "print(representation)"
   ]
  },
  {
   "cell_type": "markdown",
   "metadata": {},
   "source": [
    "## Some support functions"
   ]
  },
  {
   "cell_type": "markdown",
   "metadata": {},
   "source": [
    "Next, there are some functions we need for the implementation. Try to get the gist of what they do, but if you do not understand fully, don't worry. \n",
    "- The first one tests whether a move is valid (so whether a card follows suit, or has the same value). \n",
    "- The second is a helper function that checks whether two cards have the same suit.\n",
    "- The third function checks whether two cards have the same value. \n",
    "- The last one makes a random choice of cards in the hands. \n",
    "\n",
    "We don't expect you to fully understand the coding behind these functions, however, if you are interested you might find the following link useful: https://www.programiz.com/python-programming/matrix. Take a look at how Python Matrices are created and how to access rows and columns. "
   ]
  },
  {
   "cell_type": "code",
   "execution_count": 4,
   "metadata": {},
   "outputs": [],
   "source": [
    "def valid_move(cardA, cardB):\n",
    "    print(\"validMove: comparing \" + str(cardA) + \" to \" + str(cardB)) # UNCOMMENT THIS TO SEE WHICH CARDS ARE BEING COMPARED\n",
    "    g = np.arange(20).reshape(5, 4) #this produces the same grid as the representation, for the purpose of checking moves\n",
    "    if check_value(cardA, cardB, g):\n",
    "        return True\n",
    "    elif check_suit(cardA, cardB, g):\n",
    "        return True\n",
    "    else:\n",
    "        print(\"validMove: No move found\")\n",
    "        return False\n",
    "\n",
    "    \n",
    "def check_suit(cardA, cardB, grid):\n",
    "    r, c = grid.shape\n",
    "    for i in range(c):\n",
    "        if np.any(grid[:, i] == cardA) and np.any(grid[:, i] == cardB):\n",
    "            return True\n",
    "\n",
    "        \n",
    "def check_value(cardA, cardB, grid):\n",
    "    r, c = grid.shape\n",
    "    for i in range(r):\n",
    "        if np.any(grid[i] == cardA) and np.any(grid[i] == cardB):\n",
    "            return True\n",
    "\n",
    "        \n",
    "def pick_cards(seed, size):\n",
    "    random.seed(seed)\n",
    "    cards = np.random.choice(20, (size*2), replace = False)\n",
    "    leftHand = cards[:size]\n",
    "    rightHand = cards[size:]\n",
    "    return (leftHand, rightHand)"
   ]
  },
  {
   "cell_type": "markdown",
   "metadata": {},
   "source": [
    "## Main Search algorithms"
   ]
  },
  {
   "cell_type": "markdown",
   "metadata": {},
   "source": [
    "Now it is time to define BFS. Try to understand the implementation. It is as close to the pseudocode presented in class as possible.\n"
   ]
  },
  {
   "cell_type": "code",
   "execution_count": 5,
   "metadata": {},
   "outputs": [],
   "source": [
    "def breadth_first_tree_search(problem):\n",
    "    \"\"\"\n",
    "    Search the shallowest nodes in the search tree first.\n",
    "    Search through the successors of a problem to find a goal.\n",
    "    The argument fringe should be an empty queue.\n",
    "    Repeats infinitely in case of loops.\n",
    "    \"\"\"\n",
    "\n",
    "    fringe = deque([Node(problem.initial)])  # FIFO queue\n",
    "    while fringe:\n",
    "        node = fringe.popleft()\n",
    "        if problem.goal_test(node.state):\n",
    "            print(\"###########\")\n",
    "            print(\"success!\")\n",
    "            print(\"The solution is: {}\".format(node.solution()))\n",
    "            return node\n",
    "        fringe.extend(node.expand(problem))\n",
    "    print(\"###########\")\n",
    "    print(\"unfortunately no solution has been found!\")\n",
    "    return None"
   ]
  },
  {
   "cell_type": "markdown",
   "metadata": {},
   "source": [
    "And here comes DFS. Again, check out the code, and look at the difference between the two implementations. "
   ]
  },
  {
   "cell_type": "code",
   "execution_count": 6,
   "metadata": {},
   "outputs": [],
   "source": [
    "def depth_first_tree_search(problem):\n",
    "    \"\"\"\n",
    "    Search the deepest nodes in the search tree first.\n",
    "    Search through the successors of a problem to find a goal.\n",
    "    The argument fringe should be an empty queue.\n",
    "    Repeats infinitely in case of loops.\n",
    "    \"\"\"\n",
    "\n",
    "    fringe = [Node(problem.initial)]  # Stack\n",
    "    while fringe:\n",
    "        node = fringe.pop()\n",
    "        if problem.goal_test(node.state):\n",
    "            print(\"###########\")\n",
    "            print(\"success!\")\n",
    "            print(\"solution: {}\".format(node.solution()))\n",
    "            return node\n",
    "        fringe.extend(node.expand(problem))\n",
    "    print(\"###########\")\n",
    "    print(\"unfortunately no solution has been found!\")\n",
    "    return None"
   ]
  },
  {
   "cell_type": "markdown",
   "metadata": {},
   "source": [
    "### Task 2\n",
    "Explain in your own words the difference between the implementations. Write your explanation into the following cell:"
   ]
  },
  {
   "cell_type": "code",
   "execution_count": 7,
   "metadata": {},
   "outputs": [],
   "source": [
    "myReport1 = \"\"\"\n",
    "\n",
    "We are now dealing with two different algorithms for the pursuiteness of a goal-state. Regarding the Breath-First Search, we can see that \n",
    "this algorithm is based on the data structure of a queue following the FIFO (first in, first out) paradigma. That is confirmed by the \n",
    "construction of the fringe, which is explored by the command 'popleft', meaning that on the node adding process into the fringe, they \n",
    "will be evaluated whether they represent a goal-state or not from the first added node to the last, and if they are not they are removed \n",
    "from the queue.\n",
    "\n",
    "Onwards, on the Depth-First Search, we can see that this algorithm is based on the data structure of a stack following the LIFO \n",
    "(last in, first out) paradigma. That is confirmed by the construction of the fringe, which is explored by the command 'pop' without any \n",
    "argument passed (resulting on the removal from the stack of the element indexed -1, that means the last one), meaning that on the node \n",
    "adding process into the fringe, they will be evaluated whether they represent a goal-state or not from the last added node to the first, and \n",
    "if they are not they are removed from the stack.\n",
    "\n",
    "\"\"\""
   ]
  },
  {
   "cell_type": "markdown",
   "metadata": {},
   "source": [
    "The cell below generates the cards for your left and right hand."
   ]
  },
  {
   "cell_type": "code",
   "execution_count": 8,
   "metadata": {},
   "outputs": [
    {
     "name": "stdout",
     "output_type": "stream",
     "text": [
      "Right hand: [ 5  2 12 15 18]\n",
      "Left hand: [ 7  4  9 11 13]\n"
     ]
    }
   ],
   "source": [
    "leftHand, rightHand = pick_cards(STUDENT_NUMBER, HAND_SIZE)\n",
    "\n",
    "\n",
    "print(\"Right hand: {}\".format(rightHand))\n",
    "print(\"Left hand: {}\".format(leftHand))"
   ]
  },
  {
   "cell_type": "markdown",
   "metadata": {},
   "source": [
    "## Constructing your own game\n",
    "\n",
    "Of course you don't have to (always) use random cards, you can also choose your own set of cards. \n",
    "Just make sure the numbers (integers) in the arrays are unique and between 0 and 19. Uncomment and define the variable values. Also make sure that the array is of correct size (according to the previous tasks)."
   ]
  },
  {
   "cell_type": "code",
   "execution_count": 9,
   "metadata": {},
   "outputs": [],
   "source": [
    "#####\n",
    "\n",
    "customLeftHand = [0, 2, 4, 6, 8]\n",
    "customRightHand = [1, 3, 5, 7, 9]\n",
    "\n",
    "#####"
   ]
  },
  {
   "cell_type": "markdown",
   "metadata": {},
   "source": [
    "Here we specify our initial state of the problem. Again, uncomment and fill in/correct the code so that your custom hands are used."
   ]
  },
  {
   "cell_type": "code",
   "execution_count": 10,
   "metadata": {},
   "outputs": [],
   "source": [
    "initialState = GameState(customLeftHand, customRightHand, True, True)"
   ]
  },
  {
   "cell_type": "markdown",
   "metadata": {},
   "source": [
    "### Task 3\n",
    "Look in the utils file how you can print the state, \n",
    "and print the initial state below (make sure you've specified HAND_SIZE and STUDENT_NUMBER or the custom hands).\n",
    "\n",
    "Hint: to call a function from a class use class.function(paramaters) or if the class was previously called use variable.function(). For more information check https://www.geeksforgeeks.org/python-call-function-from-another-function/.\n"
   ]
  },
  {
   "cell_type": "code",
   "execution_count": 11,
   "metadata": {},
   "outputs": [
    {
     "name": "stdout",
     "output_type": "stream",
     "text": [
      "------\n",
      "GameState: Printing state: \n",
      "Left hand: [0, 2, 4, 6, 8]\n",
      "Right hand: [1, 3, 5, 7, 9]\n",
      "Do we play from left hand to get to next state? True\n",
      "Points scored: 0\n",
      "All cards: [0, 2, 4, 6, 8, 1, 3, 5, 7, 9]\n",
      "All card points: [11, 11, 10, 10, 4, 11, 11, 10, 10, 4]\n",
      "------\n"
     ]
    }
   ],
   "source": [
    "#########\n",
    "\n",
    "initialState.printState()\n",
    "\n",
    "#########"
   ]
  },
  {
   "cell_type": "markdown",
   "metadata": {},
   "source": [
    "This cell constructs the problem for your game."
   ]
  },
  {
   "cell_type": "code",
   "execution_count": 12,
   "metadata": {},
   "outputs": [],
   "source": [
    "p = Problem(initialState)"
   ]
  },
  {
   "cell_type": "markdown",
   "metadata": {},
   "source": [
    "We can now run experiments on how long the search took by looking at the time difference in microseconds \n",
    "between the start and finish of the search.\n",
    "\n",
    "In case your game does not have a solution, you might want to try to run a custom-made set of hands as presented above."
   ]
  },
  {
   "cell_type": "code",
   "execution_count": 13,
   "metadata": {},
   "outputs": [
    {
     "name": "stdout",
     "output_type": "stream",
     "text": [
      "###########\n",
      "success!\n",
      "The solution is: [0, 1, 2]\n",
      "The search took 10911 microseconds\n"
     ]
    }
   ],
   "source": [
    "startTime = datetime.datetime.now()\n",
    "\n",
    "search = breadth_first_tree_search(p)\n",
    "#search = depth_first_tree_search(p)\n",
    "\n",
    "endTime = datetime.datetime.now()\n",
    "\n",
    "duration = endTime-startTime\n",
    "print(\"The search took {} microseconds\".format(duration.microseconds))\n"
   ]
  },
  {
   "cell_type": "markdown",
   "metadata": {},
   "source": [
    "### Task 4"
   ]
  },
  {
   "cell_type": "markdown",
   "metadata": {},
   "source": [
    "Using the representation matrix of the cards, think of a combination of two hands for which no solution would be found (minimal hand size = 3).\n",
    "\n",
    "To save your solution, declare two lists, named “noLeft” and “noRight” and populate them with suitable cards."
   ]
  },
  {
   "cell_type": "code",
   "execution_count": 14,
   "metadata": {},
   "outputs": [
    {
     "name": "stdout",
     "output_type": "stream",
     "text": [
      "------\n",
      "GameState: Printing state: \n",
      "Left hand: [0, 4, 8]\n",
      "Right hand: [10, 14, 18]\n",
      "Do we play from left hand to get to next state? True\n",
      "Points scored: 0\n",
      "All cards: [0, 4, 8, 10, 14, 18]\n",
      "All card points: [11, 10, 4, 4, 3, 2]\n",
      "------\n"
     ]
    }
   ],
   "source": [
    "# I will make things impossible by making two hands fully composed by two different suits (hearts and spades) and just one same value which \n",
    "# would still make it impossible for any player to achieve the minimum winning points\n",
    "\n",
    "noLeft = [0, 4, 8]\n",
    "\n",
    "noRight = [10, 14, 18]\n",
    "\n",
    "impossible_game = GameState(noLeft, noRight, True, True)\n",
    "           \n",
    "impossible_game.printState()"
   ]
  },
  {
   "cell_type": "code",
   "execution_count": 15,
   "metadata": {},
   "outputs": [
    {
     "name": "stdout",
     "output_type": "stream",
     "text": [
      "###########\n",
      "unfortunately no solution has been found!\n",
      "The search took 2990 microseconds\n"
     ]
    }
   ],
   "source": [
    "i = Problem(impossible_game)\n",
    "\n",
    "startTime = datetime.datetime.now()\n",
    "\n",
    "search = breadth_first_tree_search(i)\n",
    "#search = depth_first_tree_search(p)\n",
    "\n",
    "endTime = datetime.datetime.now()\n",
    "\n",
    "duration = endTime-startTime\n",
    "print(\"The search took {} microseconds\".format(duration.microseconds))"
   ]
  },
  {
   "cell_type": "markdown",
   "metadata": {},
   "source": [
    "### Task 5\n",
    "\n",
    "For this task, the goal ist to count the number of nodes that our search algorithms have to access before the goal state is achieved.\n",
    "Try to adapt the to algorithms from above, such that the number of nodes that had to be generated are counted in a variable.\n",
    "\n",
    "Run the Depth First Search algorithm based on your student number (set as seed) and hand size of 5. \n",
    "Have the algorithm return or print the counter. Save your solution in the variable below.\n",
    "\n",
    "Hint: You need to create a variable and icrement it every time you visit a node."
   ]
  },
  {
   "cell_type": "code",
   "execution_count": 16,
   "metadata": {},
   "outputs": [],
   "source": [
    "# Adjusting the Breath First Search Algorithm so that we can keep track of the number of nodes generated\n",
    "\n",
    "def breadth_first_tree_search_node_count(problem):\n",
    "    fringe = deque([Node(problem.initial)])  # FIFO queue\n",
    "    node_count = 0\n",
    "    solution_found = False\n",
    "    while fringe:\n",
    "        node = fringe.popleft()\n",
    "        if problem.goal_test(node.state):\n",
    "            print(\"###########\")\n",
    "            print(\"success!\")\n",
    "            print(\"The solution is: {}\".format(node.solution()))\n",
    "            solution_found = True\n",
    "            break\n",
    "            print(f\"The number of nodes the search had to access before the goal state was achieved was {node_count}\")\n",
    "        else:\n",
    "            node_count += 1\n",
    "            fringe.extend(node.expand(problem))\n",
    "    if solution_found:\n",
    "        print(f\"The number of nodes the search had to access before the goal state was achieved was {node_count}\")\n",
    "        return node\n",
    "    else:\n",
    "        print(\"###########\")\n",
    "        print(\"unfortunately no solution has been found!\")\n",
    "        return None"
   ]
  },
  {
   "cell_type": "code",
   "execution_count": 17,
   "metadata": {},
   "outputs": [],
   "source": [
    "# Adjusting the Depth First Search Algorithm so that we can keep track of the number of nodes generated\n",
    "\n",
    "nodeCount = 0\n",
    "\n",
    "def depth_first_tree_search_node_count(problem):\n",
    "    fringe = [Node(problem.initial)]  # Stack\n",
    "    nodeCount = 0\n",
    "    solution_found = False\n",
    "    while fringe:\n",
    "        node = fringe.pop()\n",
    "        if problem.goal_test(node.state):\n",
    "            print(\"###########\")\n",
    "            print(\"success!\")\n",
    "            print(\"solution: {}\".format(node.solution()))\n",
    "            solution_found = True\n",
    "            break\n",
    "            print(f\"The number of nodes the search had to access before the goal state was achieved was {nodeCount}\")\n",
    "        else:\n",
    "            nodeCount += 1\n",
    "            fringe.extend(node.expand(problem))\n",
    "    if solution_found:\n",
    "        print(f\"The number of nodes the search had to access before the goal state was achieved was {nodeCount}\")\n",
    "        return nodeCount\n",
    "    else:\n",
    "        print(\"###########\")\n",
    "        print(\"unfortunately no solution has been found!\")\n",
    "        return None"
   ]
  },
  {
   "cell_type": "code",
   "execution_count": 18,
   "metadata": {},
   "outputs": [
    {
     "name": "stdout",
     "output_type": "stream",
     "text": [
      "Right hand: [ 5  2 12 15 18]\n",
      "Left hand: [ 7  4  9 11 13]\n"
     ]
    }
   ],
   "source": [
    "# Setting up our new hands, my student number and the hand size of 5 were already defined on top of the notebook\n",
    "\n",
    "leftHand_ajusted, rightHand_adjusted = pick_cards(STUDENT_NUMBER, HAND_SIZE)\n",
    "\n",
    "print(\"Right hand: {}\".format(rightHand_adjusted))\n",
    "print(\"Left hand: {}\".format(leftHand_ajusted))"
   ]
  },
  {
   "cell_type": "code",
   "execution_count": 19,
   "metadata": {},
   "outputs": [
    {
     "name": "stdout",
     "output_type": "stream",
     "text": [
      "------\n",
      "GameState: Printing state: \n",
      "Left hand: [ 7  4  9 11 13]\n",
      "Right hand: [ 5  2 12 15 18]\n",
      "Do we play from left hand to get to next state? True\n",
      "Points scored: 0\n",
      "All cards: [7, 4, 9, 11, 13, 5, 2, 12, 15, 18]\n",
      "All card points: [10, 10, 4, 4, 3, 10, 11, 3, 3, 2]\n",
      "------\n"
     ]
    }
   ],
   "source": [
    "# Setting up our new game\n",
    "\n",
    "adjusted_algorithm_game = GameState(leftHand_ajusted, rightHand_adjusted, True, True)\n",
    "\n",
    "adjusted_algorithm_game.printState()"
   ]
  },
  {
   "cell_type": "code",
   "execution_count": 20,
   "metadata": {},
   "outputs": [
    {
     "name": "stdout",
     "output_type": "stream",
     "text": [
      "###########\n",
      "success!\n",
      "solution: [13, 15, 7, 5, 4]\n",
      "The number of nodes the search had to access before the goal state was achieved was 7\n",
      "The search took 6019 microseconds\n"
     ]
    }
   ],
   "source": [
    "# Running our adjusted Depth-First Search algorithm on our new game\n",
    "\n",
    "a = Problem(adjusted_algorithm_game)\n",
    "\n",
    "startTime = datetime.datetime.now()\n",
    "\n",
    "nodeCount = depth_first_tree_search_node_count(a)\n",
    "\n",
    "endTime = datetime.datetime.now()\n",
    "\n",
    "duration = endTime-startTime\n",
    "print(\"The search took {} microseconds\".format(duration.microseconds))"
   ]
  },
  {
   "cell_type": "code",
   "execution_count": 21,
   "metadata": {},
   "outputs": [
    {
     "data": {
      "text/plain": [
       "7"
      ]
     },
     "execution_count": 21,
     "metadata": {},
     "output_type": "execute_result"
    }
   ],
   "source": [
    "# Confirmation of the counter variable\n",
    "\n",
    "nodeCount"
   ]
  },
  {
   "cell_type": "markdown",
   "metadata": {},
   "source": [
    "### Task 6\n",
    "\n",
    "Report briefly on if (and if so, how):\n",
    "\n",
    "    * a) changing the order of the cards in your hand\n",
    "    * b) choosing depth first or breadth first search\n",
    "    \n",
    "   ...individually and combined have an influence on the running time and nodes generated. \n",
    "   Save this (brief!) report in a multi line string variable named “myReport”.\n",
    "   \n",
    "   Note: If your student number does not generate hands for which a solution can be found, \n",
    "   pick a custom hand (be sure to implement it above, and run all the cells again to make sure it gets executed properly)."
   ]
  },
  {
   "cell_type": "code",
   "execution_count": 22,
   "metadata": {},
   "outputs": [],
   "source": [
    "myReport2 = \"\"\"\n",
    "\n",
    "Individually, changing the order of the cards in our hand, i.e. inverting the order, should have no influence on the algorithm running \n",
    "time and the amount of generated nodes, as they will still have to do the same search path and therefore generate the same number of nodes \n",
    "to evaluate in finding the best move to make towards a goal-state. Thus, the order of addition of nodes on the fringe of the algorithm does \n",
    "not matter in the overall performance, only the size of the hand.\n",
    "\n",
    "On the other hand, choosing depth-first search over breadth-first search would have a major impact on the algorithm execution time \n",
    "and on the generated nodes, because, recognizing that our goal nodes will certainly be in the leaves of the tree (last depth of the search), \n",
    "depth-first search will be faster in reaching these potential solution nodes and will not need to generate and evaluate as many nodes as \n",
    "breadth-first search would.\n",
    "\n",
    "Combined, as explained, the best decision to make is to choose depth-first search instead of breath-first search as it will be much more \n",
    "spacewise and timewise efficient to bring up a solution, regardless of the order of the cards in our hand..\n",
    "\n",
    "\"\"\"\n"
   ]
  },
  {
   "cell_type": "markdown",
   "metadata": {},
   "source": [
    "### Task 7\n",
    "\n",
    "Using the representation of the cards and your knowledge of the search algorithms, \n",
    "define a pair of hands that will be faster with depth first search (hand size = 3).\n",
    "    \n",
    "Save your solution by declaring 2 lists named \"DFSL\" (left hand) and \"DFSR\" (right hand)."
   ]
  },
  {
   "cell_type": "code",
   "execution_count": 23,
   "metadata": {},
   "outputs": [
    {
     "name": "stdout",
     "output_type": "stream",
     "text": [
      "###########\n",
      "success!\n",
      "solution: [0, 16, 4]\n",
      "The number of nodes the search had to access before the goal state was achieved was 5\n",
      "The search took 3990 microseconds\n"
     ]
    }
   ],
   "source": [
    "hand_size = 3\n",
    "\n",
    "DFSL = [4, 0, 7]\n",
    "\n",
    "DFSR = [16, 19, 18]\n",
    "\n",
    "depth_first_search_time_test = GameState(DFSL, DFSR, True, True)\n",
    "\n",
    "d = Problem(depth_first_search_time_test)\n",
    "\n",
    "startTime = datetime.datetime.now()\n",
    "\n",
    "search = depth_first_tree_search_node_count(d)\n",
    "\n",
    "endTime = datetime.datetime.now()\n",
    "\n",
    "duration = endTime-startTime\n",
    "print(\"The search took {} microseconds\".format(duration.microseconds))"
   ]
  },
  {
   "cell_type": "code",
   "execution_count": 24,
   "metadata": {},
   "outputs": [
    {
     "name": "stdout",
     "output_type": "stream",
     "text": [
      "###########\n",
      "success!\n",
      "solution: [0, 16, 4]\n",
      "The number of nodes the search had to access before the goal state was achieved was 5\n",
      "The search took 2991 microseconds\n"
     ]
    }
   ],
   "source": [
    "hand_size = 3\n",
    "\n",
    "BFSL = DFSL\n",
    "\n",
    "BFSR = DFSR\n",
    "\n",
    "breath_first_search_time_test = GameState(BFSL, BFSR, True, True)\n",
    "\n",
    "e = Problem(breath_first_search_time_test)\n",
    "\n",
    "startTime = datetime.datetime.now()\n",
    "\n",
    "search = depth_first_tree_search_node_count(e)\n",
    "\n",
    "endTime = datetime.datetime.now()\n",
    "\n",
    "duration = endTime-startTime\n",
    "print(\"The search took {} microseconds\".format(duration.microseconds))"
   ]
  },
  {
   "cell_type": "code",
   "execution_count": 25,
   "metadata": {},
   "outputs": [],
   "source": [
    "# As we can observe, the running time in depth-first search was faster than in breadth-first search"
   ]
  },
  {
   "cell_type": "markdown",
   "metadata": {},
   "source": [
    "### Task 8\n",
    "\n",
    "Explain why it is not possible to define a pair of hands such that Breadth First Search is faster than Depth First Search. Save your (brief) explanation as a multi-line string in the variable below"
   ]
  },
  {
   "cell_type": "code",
   "execution_count": 26,
   "metadata": {},
   "outputs": [],
   "source": [
    "myReport3 = \"\"\"\n",
    "\n",
    "Breadth-first search will never be faster than depth-first search on finding a solution because of the way this card game is \n",
    "rendered. In the Breadth-first search algorithm that uses the queue data structure (FIFO) in the evaluation of goal-states, each node is \n",
    "evaluated from the first to the last according to its order of addition to the queue, and, knowing that the solution to this problem has \n",
    "for sure to be in one of the leaves of the representative tree (since it is a card game scheduled for a sequence of tricks), this type of \n",
    "search is more inefficient because it goes through all the depths of the tree before the last one in order to find the possible solutions \n",
    "there. Contrariwise, the Depth-First search algorithm uses a stack as its fringe data structure (LIFO), which means that the last nodes of \n",
    "the tree (leaves) are the first ones to be evaluated (since they were the last ones to be added to the stack), resulting in a time saving \n",
    "as the algorithm can focus on potential solutions right away and does not have to go all the way to get there.\n",
    "\n",
    "\"\"\""
   ]
  },
  {
   "cell_type": "markdown",
   "metadata": {},
   "source": [
    "### Final Task: Collect all the results\n",
    "\n",
    "Uncomment and run this cell (and all the cells above) to generate the text file that you have to hand in together with the notebook on canvas!"
   ]
  },
  {
   "cell_type": "code",
   "execution_count": 27,
   "metadata": {},
   "outputs": [],
   "source": [
    "exportToText(\"assignment2.txt\",STUDENT_NUMBER, noLeft, noRight, nodeCount, myReport1, DFSL, DFSR, myReport2, myReport3)"
   ]
  }
 ],
 "metadata": {
  "kernelspec": {
   "display_name": "Python 3 (ipykernel)",
   "language": "python",
   "name": "python3"
  },
  "language_info": {
   "codemirror_mode": {
    "name": "ipython",
    "version": 3
   },
   "file_extension": ".py",
   "mimetype": "text/x-python",
   "name": "python",
   "nbconvert_exporter": "python",
   "pygments_lexer": "ipython3",
   "version": "3.10.4"
  }
 },
 "nbformat": 4,
 "nbformat_minor": 4
}
