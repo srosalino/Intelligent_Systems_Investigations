{
 "cells": [
  {
   "cell_type": "markdown",
   "metadata": {},
   "source": [
    "# Intelligent Systems 2022: 3rd practical assignment \n",
    "## Informed Search "
   ]
  },
  {
   "cell_type": "markdown",
   "metadata": {},
   "source": [
    "Your name: Sebastião Manuel Inácio Rosalino\n",
    "\n",
    "Your VUNetID: sxx209\n",
    "\n",
    "If you do not provide your name and VUNetID we will not accept your submission. \n",
    "\n",
    "### Learning objectives\n",
    "At the end of this exercise you should be able to understand the implementations of the basic algorithms for informed search. You should be able to: \n",
    "\n",
    "1. Understand the algorithms (be able to explain in your own words) \n",
    "2. Follow the individual steps of the algorithms\n",
    "3. Make small modifications of the code to see the effect on the search algorithms\n",
    "4. Make small adaptations to the algorithm to study the computational properties\n",
    "\n",
    "### Practicalities\n",
    "\n",
    "Follow this Notebook step-by-step. \n",
    "\n",
    "Of course, you can do the exercises in any Programming Editor of your liking. \n",
    "But you do not have to. Feel free to simply write code in the Notebook. Please use your studentID+Assignment2.ipynb as the name of the \n",
    "Notebook.  \n",
    "\n",
    "Note: unlike the courses dedicated to programming we will not evaluate the style of the programs. But we will, however, test your programs on other data that we provide, and your program should give the correct output to the test-data as well.\n",
    "\n",
    "As was mentioned, the assignment is graded as pass/fail. To pass you need to have either a full working code or an explanation of what you tried and what didn't work for the tasks that you were unable to complete (you can use multi-line comments or a text cell).\n",
    "\n",
    "## Initialising \n",
    "\n",
    "First, let us make sure the necessary packages are installed, and imported. Run the following code:"
   ]
  },
  {
   "cell_type": "code",
   "execution_count": 1,
   "metadata": {},
   "outputs": [
    {
     "name": "stdout",
     "output_type": "stream",
     "text": [
      "Requirement already satisfied: numpy in c:\\users\\sebas\\anaconda3\\envs\\main_env\\lib\\site-packages (1.22.3)\n"
     ]
    }
   ],
   "source": [
    "import sys\n",
    "!{sys.executable} -m pip install numpy\n",
    "import datetime\n",
    "import functools\n",
    "import heapq\n",
    "import numpy as np\n",
    "from numpy import random\n",
    "from collections import deque\n",
    "\n",
    "from utils import *\n",
    "\n",
    "# This might produce a warning that numpy is already installed. "
   ]
  },
  {
   "cell_type": "markdown",
   "metadata": {},
   "source": [
    "## Starting your first game"
   ]
  },
  {
   "cell_type": "code",
   "execution_count": 2,
   "metadata": {},
   "outputs": [],
   "source": [
    "HAND_SIZE = 5      #TODO: replace with your desired hand size (3, 5 or 10)\n",
    "STUDENT_NUMBER = 2781583 #TODO: replace with your own student number"
   ]
  },
  {
   "cell_type": "markdown",
   "metadata": {},
   "source": [
    "With the constant HAND_SIZE we decide how many cards we want in our hand. \n",
    "By default it is set to 5, you can change it to any hand size, \n",
    "do keep in mind that the higher the number of cards in your hand, \n",
    "the more branches in the search tree there are, and the longer it will take to run.\n",
    "\n",
    "Your student number is used to set a random seed.\n",
    "There are situations imaginable where you want a pseudo random selection (for example when debugging it's nice to always work with the same values)\n",
    "In short, the seed ensures that you get a pseudo random distribution that will always be the same when you re-run the code.\n",
    "It is a random distribution because you don't have to hard code them in yourself, \n",
    "but it is not random in the sense that the next time you run it you get different cards!\n",
    "For more information on pseudo random number generators, \n",
    "check out https://www.geeksforgeeks.org/pseudo-random-number-generator-prng/."
   ]
  },
  {
   "cell_type": "markdown",
   "metadata": {},
   "source": [
    "### Updated representation\n",
    "\n",
    "You may wonder how the cards for this game are represented. \n",
    "Go to utils and find out in which variable this information is found, print this variable below:"
   ]
  },
  {
   "cell_type": "code",
   "execution_count": 3,
   "metadata": {},
   "outputs": [
    {
     "name": "stdout",
     "output_type": "stream",
     "text": [
      "\n",
      "        h  d  s  c\n",
      "ace  [[ 0  1  2  3]  = 11pts     h = hearts\n",
      "ten   [ 4  5  6  7]  = 10pts     d = diamonds\n",
      "king  [ 8  9 10 11]  = 4pts      s = spades\n",
      "queen [12 13 14 15]  = 3pts      c = clubs\n",
      "jack  [16 17 18 19]] = 2pts\n",
      "For example: '10' is 'king of spades'\n",
      "\n"
     ]
    }
   ],
   "source": [
    "print(representation)"
   ]
  },
  {
   "cell_type": "markdown",
   "metadata": {},
   "source": [
    "Note that cards have values now w.r.t. the game from Assignment 2"
   ]
  },
  {
   "cell_type": "markdown",
   "metadata": {},
   "source": [
    "### Some support functions "
   ]
  },
  {
   "cell_type": "markdown",
   "metadata": {},
   "source": [
    "Next, there are some functions we need for the implementation. Try to get the gist of what they do, but if you do not understand fully, don't worry. The first one returns the points value of a card, the second tests whether a move is valid (so whether a card follows suit, or has the same value). The third is a helper function that checks whether two cards have the same suit, and the fourth function checks whether two cards have the same value. The last one makes a random choice of cards in the hands. \n",
    "\n",
    "We don't expect you to fully understand the coding behind these functions, however, if you are interested you might find the following link useful: https://www.programiz.com/python-programming/matrix. Take a look at how Python Matrices are created and how to access rows and columns. "
   ]
  },
  {
   "cell_type": "code",
   "execution_count": 4,
   "metadata": {},
   "outputs": [],
   "source": [
    "def get_points(cardA):\n",
    "    g = np.arange(20).reshape(5, 4) #this produces the same grid as the representation\n",
    "    if (np.any(g[0] == cardA)): #Ace (11)\n",
    "        return 11\n",
    "    elif (np.any(g[1] == cardA)): #Ten (10)\n",
    "        return 10\n",
    "    elif (np.any(g[2] == cardA)): #King (4)\n",
    "        return 4\n",
    "    elif (np.any(g[3] == cardA)): #Queen (3)\n",
    "        return 3\n",
    "    elif (np.any(g[4] == cardA)): #Jack (2)\n",
    "        return 2\n",
    "\n",
    "def valid_move(cardA, cardB):\n",
    "    #print(\"validMove: comparing \" + str(cardA) + \" to \" + str(cardB)) UNCOMMENT THIS TO SEE WHICH CARDS ARE BEING COMPARED\n",
    "    g = np.arange(20).reshape(5, 4) #this produces the same grid as the representation, for the purpose of checking moves\n",
    "    if check_value(cardA, cardB, g):\n",
    "        return True\n",
    "    elif check_suit(cardA, cardB, g):\n",
    "        return True\n",
    "    else:\n",
    "        #print(\"validMove: No move found\")\n",
    "        return False\n",
    "\n",
    "def check_suit(cardA, cardB, grid):\n",
    "    r, c = grid.shape\n",
    "    for i in range(c):\n",
    "        if np.any(grid[:, i] == cardA) and np.any(grid[:, i] == cardB):\n",
    "            return True\n",
    "\n",
    "def check_value(cardA, cardB, grid):\n",
    "    r, c = grid.shape\n",
    "    for i in range(r):\n",
    "        if np.any(grid[i] == cardA) and np.any(grid[i] == cardB):\n",
    "            return True\n",
    "\n",
    "def pick_cards(seed, size):\n",
    "    random.seed(seed)\n",
    "    cards = np.random.choice(20, (size*2), replace = False)\n",
    "    leftHand = cards[:size]\n",
    "    rightHand = cards[size:]\n",
    "    return (leftHand, rightHand)"
   ]
  },
  {
   "cell_type": "markdown",
   "metadata": {},
   "source": [
    "### Breadth, and Depth First Search"
   ]
  },
  {
   "cell_type": "markdown",
   "metadata": {},
   "source": [
    "From assignment 1 we are already familiar with the Breadth First and Depth First search algorithms. See the code below:"
   ]
  },
  {
   "cell_type": "code",
   "execution_count": 5,
   "metadata": {},
   "outputs": [],
   "source": [
    "def breadth_first_tree_search(problem):\n",
    "    \"\"\"\n",
    "    Search the shallowest nodes in the search tree first.\n",
    "    Search through the successors of a problem to find a goal.\n",
    "    The argument fringe should be an empty queue.\n",
    "    Repeats infinitely in case of loops.\n",
    "    \"\"\"\n",
    "    counter = 0\n",
    "    fringe = deque([Node(problem.initial)])  # FIFO queue\n",
    "    while fringe:\n",
    "        node = fringe.popleft()\n",
    "        counter += 1\n",
    "        if problem.goal_test(node.state):\n",
    "            print(\"###########\")\n",
    "            print(\"success!\")\n",
    "            print(\"solution: {}\".format(node.solution()))\n",
    "            print(\"{} Nodes generated\".format(counter))\n",
    "            return node\n",
    "        fringe.extend(node.expand(problem))\n",
    "    print(\"###########\")\n",
    "    print(\"unfortunately no solution has been found!\")\n",
    "    print(\"{} Nodes generated\".format(counter))\n",
    "    return None"
   ]
  },
  {
   "cell_type": "code",
   "execution_count": 6,
   "metadata": {},
   "outputs": [],
   "source": [
    "def depth_first_tree_search(problem):\n",
    "    \"\"\"\n",
    "    Search the deepest nodes in the search tree first.\n",
    "    Search through the successors of a problem to find a goal.\n",
    "    The argument fringe should be an empty queue.\n",
    "    Repeats infinitely in case of loops.\n",
    "    \"\"\"\n",
    "    counter = 0\n",
    "    fringe = [Node(problem.initial)]  # Stack\n",
    "    while fringe:\n",
    "        node = fringe.pop()\n",
    "        counter += 1\n",
    "        if problem.goal_test(node.state):\n",
    "            print(\"###########\")\n",
    "            print(\"succes!\")\n",
    "            print(\"solution: {}\".format(node.solution()))\n",
    "            print(\"{} Nodes generated\".format(counter))\n",
    "            return node\n",
    "        fringe.extend(node.expand(problem))\n",
    "    print(\"###########\")\n",
    "    print(\"unfortunately no solution has been found!\")\n",
    "    print(\"{} Nodes generated\".format(counter))\n",
    "    return None"
   ]
  },
  {
   "cell_type": "markdown",
   "metadata": {},
   "source": [
    "### Preparing the game\n",
    "To run a search, we need to define an initial state. Run the cells below to generate hands automatically, or define a custom set of hands. Please note that if you use a custom set of hands, you need to replace 'leftHand' and 'rightHand' with 'customLeftHand' and 'customRightHand' at gamestate initialisation."
   ]
  },
  {
   "cell_type": "markdown",
   "metadata": {},
   "source": [
    "The cell below generates the cards for your left and right hand."
   ]
  },
  {
   "cell_type": "code",
   "execution_count": 7,
   "metadata": {},
   "outputs": [
    {
     "name": "stdout",
     "output_type": "stream",
     "text": [
      "Left hand: [ 7  4  9 11 13]\n",
      "Right hand: [ 5  2 12 15 18]\n"
     ]
    }
   ],
   "source": [
    "# I decided to generate hand automatically \n",
    "\n",
    "leftHand, rightHand = pick_cards(STUDENT_NUMBER, HAND_SIZE)\n",
    "#customLeftHand = []\n",
    "#customRightHand = []\n",
    "\n",
    "print(\"Left hand: {}\".format(leftHand)) #or customLeftHand\n",
    "print(\"Right hand: {}\".format(rightHand)) #or customRightHand"
   ]
  },
  {
   "cell_type": "markdown",
   "metadata": {},
   "source": [
    "Now we define an initial state, and the problem."
   ]
  },
  {
   "cell_type": "code",
   "execution_count": 8,
   "metadata": {},
   "outputs": [
    {
     "name": "stdout",
     "output_type": "stream",
     "text": [
      "------\n",
      "GameState: Printing state: \n",
      "Left hand: [ 7  4  9 11 13]\n",
      "Right hand: [ 5  2 12 15 18]\n",
      "Do we play from left hand to get to next state? True\n",
      "Points scored: 0\n",
      "All cards: [7, 4, 9, 11, 13, 5, 2, 12, 15, 18]\n",
      "All card points: [10, 10, 4, 4, 3, 10, 11, 3, 3, 2]\n",
      "------\n",
      "There are 33 points needed to win(reach goal state)\n",
      "There are 60 points in the game\n"
     ]
    }
   ],
   "source": [
    "initialState = GameState(leftHand, rightHand, True, True)\n",
    "initialState.printState()\n",
    "\n",
    "p = Problem(initialState)\n",
    "print(\"There are {} points needed to win(reach goal state)\".format(p.winPoints))\n",
    "print(\"There are {} points in the game\".format(sum(p.initial.allCardPoints)))\n"
   ]
  },
  {
   "cell_type": "markdown",
   "metadata": {},
   "source": [
    "## Task 1:\n",
    "\n",
    "Run Breadth and Depth first search and implement a counter in the algorithm above that prints the number of nodes generated (as you did in the previous assignment, although now to print you must uncomment the print statements instead of formulating your own)."
   ]
  },
  {
   "cell_type": "code",
   "execution_count": 9,
   "metadata": {},
   "outputs": [
    {
     "name": "stdout",
     "output_type": "stream",
     "text": [
      "###########\n",
      "success!\n",
      "solution: [7, 5, 4, 12]\n",
      "36 Nodes generated\n",
      "The Breadth First Search Took 73840 Microseconds\n",
      "BFS PATH_COST: 159\n",
      "###########\n",
      "succes!\n",
      "solution: [13, 15, 7, 5, 4]\n",
      "8 Nodes generated\n",
      "The Depth First Search Took 11968 Microseconds\n",
      "DFS PATH_COST: 123\n"
     ]
    }
   ],
   "source": [
    "startTime = datetime.datetime.now()\n",
    "s=breadth_first_tree_search(p)\n",
    "endTime = datetime.datetime.now()\n",
    "duration = endTime - startTime\n",
    "print(\"The Breadth First Search Took {} Microseconds\".format(duration.microseconds))\n",
    "print(\"BFS PATH_COST: {}\".format(s.path_cost))\n",
    "\n",
    "startTime = datetime.datetime.now()\n",
    "s=depth_first_tree_search(p)\n",
    "endTime = datetime.datetime.now()\n",
    "duration = endTime - startTime\n",
    "print(\"The Depth First Search Took {} Microseconds\".format(duration.microseconds))\n",
    "print(\"DFS PATH_COST: {}\".format(s.path_cost))\n"
   ]
  },
  {
   "cell_type": "markdown",
   "metadata": {},
   "source": [
    "### Greedy Best First Search"
   ]
  },
  {
   "cell_type": "markdown",
   "metadata": {},
   "source": [
    "See the code below for the Greedy Best First Search Algorithm"
   ]
  },
  {
   "cell_type": "code",
   "execution_count": 10,
   "metadata": {},
   "outputs": [],
   "source": [
    "def greedy_best_first_search(problem, f, display=True):\n",
    "    \"\"\"\n",
    "    Search the nodes with the lowest f scores first.\n",
    "    You specify the function f(node) that you want to minimize; for example,\n",
    "    if f is a heuristic estimate to the goal, then we have greedy best\n",
    "    first search; \n",
    "    \"\"\"\n",
    "    \n",
    "    f = memoize(f, 'f')\n",
    "    node = Node(problem.initial)\n",
    "    frontier = PriorityQueue('min', f)\n",
    "    frontier.append(node)\n",
    "    explored = set()\n",
    "    counter = 0\n",
    "    while frontier:\n",
    "        node = frontier.pop()\n",
    "        counter += 1\n",
    "        if problem.goal_test(node.state):\n",
    "            if display:\n",
    "                print(\"Search succesful!\")\n",
    "                print(len(explored), \"paths have been expanded and\", len(frontier), \"paths remain in the frontier\")\n",
    "                print(\"solution: {}\".format(node.solution()))\n",
    "                print(\"{} Nodes generated\".format(counter))\n",
    "            return node\n",
    "        explored.add(node.state)\n",
    "        for child in node.expand(problem):\n",
    "            if child.state not in explored and child not in frontier:\n",
    "                frontier.append(child)\n",
    "            elif child in frontier:\n",
    "                if f(child) < frontier[child]:\n",
    "                    del frontier[child]\n",
    "                    frontier.append(child)\n",
    "    print(\"Search failed\")\n",
    "    print(\"{} Nodes generated\".format(counter))\n",
    "    return None"
   ]
  },
  {
   "cell_type": "markdown",
   "metadata": {},
   "source": [
    "## Task 2\n",
    "\n",
    "Run A Greedy Best First Search and implement a counter in the algorithm above that prints the number of nodes generated (as you did in the previous assignment, although now to print you must uncomment the print statements instead of formulating your own)."
   ]
  },
  {
   "cell_type": "code",
   "execution_count": 11,
   "metadata": {},
   "outputs": [
    {
     "name": "stdout",
     "output_type": "stream",
     "text": [
      "Search succesful!\n",
      "4 paths have been expanded and 7 paths remain in the frontier\n",
      "solution: [7, 5, 4, 12]\n",
      "5 Nodes generated\n",
      "The Greedy Best First Search Took 10934 Microseconds\n",
      "Greedy Best First Search PATH_COST: 159\n"
     ]
    }
   ],
   "source": [
    "startTime = datetime.datetime.now()\n",
    "s = greedy_best_first_search(p, p.h, True)\n",
    "endTime = datetime.datetime.now()\n",
    "duration = endTime - startTime\n",
    "print(\"The Greedy Best First Search Took {} Microseconds\".format(duration.microseconds))\n",
    "print(\"Greedy Best First Search PATH_COST: {}\".format(s.path_cost))"
   ]
  },
  {
   "cell_type": "markdown",
   "metadata": {},
   "source": [
    "## Task 3 \n",
    "\n",
    "In what way do Depth First Search, Breadth First Search and Greedy Best First Search (using the distance to the goal as heuristic) differ?\n",
    "\n",
    "Return a (brief) report to the multi line string below, take into account the number of nodes counted from the counter you implemented:\n"
   ]
  },
  {
   "cell_type": "code",
   "execution_count": 12,
   "metadata": {},
   "outputs": [],
   "source": [
    "myReport1 = \"\"\" \n",
    "\n",
    "The Depth First Search algorithm expands to the left child, increasing in depth, whenever possible, that is, it is relatively efficient \n",
    "due to the fact that the goal-states are always in the leaves of the problem tree, therefore, time is saved in relation to the Breadth First Search \n",
    "algorithm, because we will be less distant from the solution faster and therefore there is no need to expand as many nodes as in Breadth \n",
    "First Search.\n",
    "\n",
    "The Breadth First Search algorithm for this problem is inefficient because it takes longer for the node expansion process to reach the leaves \n",
    "of the tree representing the problem where the potential solutions are found and, in this way, we are forced to expand many nodes distant \n",
    "from the goal-states.\n",
    "\n",
    "Finally, regarding the Greedy Best First Search algorithm, this is a more \"educated\" search, using the referenced heuristic \n",
    "(minimize the function h(n) = points required to win - points scored), we will expand only the single node that is the least distant from \n",
    "the solution and therefore with the smallest heuristic value.\n",
    "\n",
    "\"\"\""
   ]
  },
  {
   "cell_type": "markdown",
   "metadata": {},
   "source": [
    "## Task 4\n",
    "\n",
    "Run a Greedy Best First Search (again) but this time print the path cost (uncomment the print statement and fill in the right variable.)\n",
    "\n",
    "(Hint: Go into utils.py, in class Node you can see a variable that should help you. Remember that a -successful- search returns a Node which is saved as 'search' here)"
   ]
  },
  {
   "cell_type": "code",
   "execution_count": 13,
   "metadata": {},
   "outputs": [
    {
     "name": "stdout",
     "output_type": "stream",
     "text": [
      "Search succesful!\n",
      "4 paths have been expanded and 7 paths remain in the frontier\n",
      "solution: [7, 5, 4, 12]\n",
      "5 Nodes generated\n",
      "Path cost: 159\n"
     ]
    }
   ],
   "source": [
    "search = greedy_best_first_search(p, p.h)\n",
    "\n",
    "print(\"Path cost: {}\".format(search.path_cost))"
   ]
  },
  {
   "cell_type": "markdown",
   "metadata": {},
   "source": [
    "### A* Search algorithm\n",
    "\n",
    "See the code for the A star search below:"
   ]
  },
  {
   "cell_type": "code",
   "execution_count": 14,
   "metadata": {},
   "outputs": [],
   "source": [
    "def astar_search(problem, h=None, display=True):\n",
    "    \"\"\"\n",
    "    A* search is best-first graph search with f(n) = g(n)+h(n).\n",
    "    You need to specify the h function when you call astar_search, or\n",
    "    else in your Problem subclass.\n",
    "    \"\"\"\n",
    "    return greedy_best_first_search(problem, lambda n: n.path_cost + h(n), display)"
   ]
  },
  {
   "cell_type": "markdown",
   "metadata": {},
   "source": [
    "## Task 5\n",
    "\n",
    "Consider the the solution of a greedy best first search and an a star search:"
   ]
  },
  {
   "cell_type": "code",
   "execution_count": 15,
   "metadata": {},
   "outputs": [
    {
     "name": "stdout",
     "output_type": "stream",
     "text": [
      "Greedy Best First Search: \n",
      "Search succesful!\n",
      "4 paths have been expanded and 7 paths remain in the frontier\n",
      "solution: [7, 5, 4, 12]\n",
      "5 Nodes generated\n",
      "Path cost: 159\n",
      "\n",
      "###########\n",
      "\n",
      "A Star Search: \n",
      "Search succesful!\n",
      "16 paths have been expanded and 12 paths remain in the frontier\n",
      "solution: [11, 15, 13, 12, 4, 5]\n",
      "17 Nodes generated\n",
      "Path cost: 90\n"
     ]
    }
   ],
   "source": [
    "print(\"Greedy Best First Search: \")\n",
    "gbf=greedy_best_first_search(p, p.h, True)\n",
    "print(\"Path cost: {}\".format(gbf.path_cost))\n",
    "\n",
    "print(\"\\n###########\\n\")\n",
    "\n",
    "print(\"A Star Search: \")\n",
    "ast=astar_search(p, p.h)\n",
    "print(\"Path cost: {}\".format(ast.path_cost))\n"
   ]
  },
  {
   "cell_type": "markdown",
   "metadata": {},
   "source": [
    "Explain in your own words what the difference between the two algorithms is, and why the solutions differ. Return your explanation to the multi line string below:"
   ]
  },
  {
   "cell_type": "code",
   "execution_count": 16,
   "metadata": {},
   "outputs": [],
   "source": [
    "myReport2 = \"\"\" \n",
    "\n",
    "The Greedy Best First Search algorithm chooses the next node to be expanded based on the heuristic identified by the function \n",
    "h(n) = points required to win - points scored. In other words, this algorithm will expand only one node at a time, and that same node will \n",
    "be responsible for, within the possible nodes, minimizing the value of the heuristic, without taking into account the associated cost of the \n",
    "path to be taken towards the solution.\n",
    "\n",
    "The A star search algorithm chooses the next node to be expanded based on the node that minimizes the heuristic referenced by the new\n",
    "function s(n) = points needed for victory - points obtained + cost of the path so far. In other words, this algorithm will expand only one \n",
    "node per interation, which, within the possible nodes, is responsible for minimizing the values resulting from this heuristic.\n",
    "\n",
    "That being said, the solutions obviously differ because the A star search algorithm combines in the decision process of the next node to be \n",
    "expanded the heuristic present in the Greedy Best First Search algorithm (points needed for victory - points scored) with the cost of the \n",
    "path taken so far. We can see from the outputs obtained that, despite the A star search algorithm having generated more nodes than \n",
    "Greedy Best First Search (17 against 5), the A star search had a much lower cost (90 against 159).\n",
    "\n",
    "\"\"\""
   ]
  },
  {
   "cell_type": "markdown",
   "metadata": {},
   "source": [
    "## Final Task: Collect all the results\n",
    "\n",
    "Uncomment and run this cell (and all the cells above) to generate the text file that you have to hand in together with the notebook on canvas!"
   ]
  },
  {
   "cell_type": "code",
   "execution_count": 17,
   "metadata": {},
   "outputs": [],
   "source": [
    "exportToText(\"assignment3.txt\",STUDENT_NUMBER, leftHand, rightHand, myReport1, myReport2 )"
   ]
  }
 ],
 "metadata": {
  "kernelspec": {
   "display_name": "Python 3 (ipykernel)",
   "language": "python",
   "name": "python3"
  },
  "language_info": {
   "codemirror_mode": {
    "name": "ipython",
    "version": 3
   },
   "file_extension": ".py",
   "mimetype": "text/x-python",
   "name": "python",
   "nbconvert_exporter": "python",
   "pygments_lexer": "ipython3",
   "version": "3.10.4"
  }
 },
 "nbformat": 4,
 "nbformat_minor": 4
}
