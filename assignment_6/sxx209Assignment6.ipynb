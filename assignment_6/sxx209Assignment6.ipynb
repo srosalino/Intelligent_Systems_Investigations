{
 "cells": [
  {
   "cell_type": "markdown",
   "metadata": {},
   "source": [
    "# Intelligent Systems 2022: 6th  practical assignment \n",
    "## Logical Agents\n",
    "\n",
    "Your name: Sebastião Manuel Inácio Rosalino\n",
    "\n",
    "Your VUnetID: sxx209\n",
    "\n",
    "If you do not provide your name and VUnetID we will not accept your submission. \n",
    "\n",
    "### Learning objectives\n",
    "At the end of this exercise you should be able to work with logical agents on the Schnapsen platform\n",
    "\n",
    "1. Be able to apply a SAT solver to check for satisfiability and entailment (bots)\n",
    "\n",
    "\n",
    "### Preliminaries\n",
    "\n",
    "In this worksheet we'll get to know Propositional Logic and RDF.\n",
    "We start building a knowledge graph based agent for playing Schnapsen. The idea is to represent the game and the game states fully in RDF and use queries and logical entailments for getting information.\n",
    "We are not implementing any game play strategy yet.\n",
    "\n",
    "First things first, let's deal with dependencies for using the kb bot, namely numpy and scipy. They should be installed fairly easily via \"pip install numpy\", \"pip install scipy\".\n",
    "Furthermore you need the packages rdflib and owlrl to work with knowledge graphs.\n",
    "rdflib is a in memory database for RDF.\n",
    "owlrl is a reasoning library for RDF-S and OWL which uses rdflib.\n",
    "\n",
    "\n",
    "### Practicalities\n",
    "\n",
    "Follow this Notebook step-by-step. \n",
    "\n",
    "Of course, you can do the exercises in any Programming Editor of your liking. But you do not have to. Feel free to simply write code in the Notebook. Please use your studentID+Assignment6.ipynb as the name of the Notebook.  \n",
    "\n",
    "Note: unlike the courses dedicated to programming we will not evaluate the style of the programs. But we will, however, test your programs on other data that we provide, and your program should give the correct output to the test-data as well.\n",
    "\n",
    "As was mentioned, the assignment is graded as pass/fail. To pass you need to have either a full working code or an explanation of what you tried and what didn't work for the tasks that you were unable to complete (you can use multi-line comments or a text cell).\n",
    "\n",
    "## Initialising \n",
    "\n",
    "First, let us make sure the necessary packages are installed, and imported. Run the following code:"
   ]
  },
  {
   "cell_type": "code",
   "execution_count": 24,
   "metadata": {},
   "outputs": [],
   "source": [
    "import sys, random\n",
    "from bots.kbbot.kb import KB, Boolean, Integer, Constant\n",
    "from api import State, engine, util"
   ]
  },
  {
   "cell_type": "markdown",
   "metadata": {},
   "source": [
    "## SAT solving and Entailment checking \n",
    "\n",
    "We will start with some exercises to use an existing SAT solver to check for satisfiability and entailment. "
   ]
  },
  {
   "cell_type": "code",
   "execution_count": 25,
   "metadata": {},
   "outputs": [],
   "source": [
    "# Define our symbols\n",
    "A = Boolean('A')\n",
    "B = Boolean('B')\n",
    "C = Boolean('C')\n",
    "\n",
    "# Create a new knowledge base\n",
    "kb = KB()\n",
    "\n",
    "# Add clauses\n",
    "kb.add_clause(A, B, C)\n",
    "kb.add_clause(~A, B)\n",
    "kb.add_clause(~B, C)\n",
    "kb.add_clause(B, ~C)"
   ]
  },
  {
   "cell_type": "markdown",
   "metadata": {},
   "source": [
    "This file first defines the three boolean symbols we will use (A, B and C), creates an empty knowledge base, and then adds the four following clauses:\n",
    "> A or B or C <br>\n",
    "> (not A) or B <br>\n",
    "> (not B) or C<br>\n",
    "> B or not C\n",
    "\n",
    "### Task 1\n",
    "Are there any models (assignments of values to these variables that make all clauses true)? Write down all the models of the knolwedge base in the following cell. "
   ]
  },
  {
   "cell_type": "code",
   "execution_count": 26,
   "metadata": {},
   "outputs": [],
   "source": [
    "# We have 3 variables, which means we will have 8 (2^3) different combinations of variable assignments\n",
    "\n",
    "#   A  |  B  |  C  |  A V B V C  |  -A V B  |  -B V C  |   B V -C  |     \n",
    "#   T     T     T        T             T          T          T \n",
    "#   T     T     F        T             T          F          T   \n",
    "#   T     F     T        T             F          T          F\n",
    "#   T     F     F        T             F          T          T\n",
    "#   F     T     T        T             T          T          T\n",
    "#   F     T     F        T             T          F          T\n",
    "#   F     F     T        T             T          T          F   \n",
    "#   F     F     F        F             T          T          T\n",
    "\n",
    "# The models found that make all the clauses true were the following:\n",
    "# A = True, B = True, C = True\n",
    "# A = False, B = True, C = True\n"
   ]
  },
  {
   "cell_type": "markdown",
   "metadata": {},
   "source": [
    "Now run the script and report the output in the cell after the code. Explain what it means.  "
   ]
  },
  {
   "cell_type": "code",
   "execution_count": 27,
   "metadata": {},
   "outputs": [
    {
     "name": "stdout",
     "output_type": "stream",
     "text": [
      "{A: False, B: True, C: True}\n",
      "{A: True, B: True, C: True}\n",
      "True\n"
     ]
    }
   ],
   "source": [
    "# Print all models of the knowledge base\n",
    "for model in kb.models():\n",
    "    print(model)\n",
    "\n",
    "# Print out whether the KB is satisfiable (if there are no models, it is not satisfiable)\n",
    "print(kb.satisfiable())\n"
   ]
  },
  {
   "cell_type": "code",
   "execution_count": 28,
   "metadata": {},
   "outputs": [],
   "source": [
    "#Put your answers here\n",
    "Report1=\"\"\"\n",
    "\n",
    "My manual calculations results match the code output. This means that the constructed Knowledge Base has two models. Meaning that the fist variable \n",
    "combination assignment of A = True, B = True, C = True and the second combination of A = False, B = True, C = True make all the clauses evaluate\n",
    "to true, and thus, they are called models of the Knowledge Base. As we found at least one model (in this case we even found two), this Knowledge Base\n",
    "is considered satisfiable.\n",
    "\n",
    "\"\"\""
   ]
  },
  {
   "cell_type": "markdown",
   "metadata": {},
   "source": [
    "Now it is time to adapt your first knowledge-base, by adding stuff…. \n",
    "\n",
    "## Tasks 2: \n",
    "Add a clause to the knowledge base so that it becomes unsatisfiable. Report the line of code you added, and in a separate line, the result that you get from the SAT solver and your script. "
   ]
  },
  {
   "cell_type": "code",
   "execution_count": 29,
   "metadata": {},
   "outputs": [
    {
     "name": "stdout",
     "output_type": "stream",
     "text": [
      "False\n"
     ]
    }
   ],
   "source": [
    "# Adding a clause to make the Knowlegde Base unsatisfiable (Not(B) or Not(C))\n",
    "\n",
    "kb.add_clause(~B, ~C)\n",
    "\n",
    "# Checking for unsatisfiability\n",
    "\n",
    "print(kb.satisfiable())"
   ]
  },
  {
   "cell_type": "markdown",
   "metadata": {},
   "source": [
    "Now you can already to build your own knowledge base, and do reasoning/inferencing with it. For example, check satisfiability of one of the questions of the working group automatically. \n"
   ]
  },
  {
   "cell_type": "markdown",
   "metadata": {},
   "source": [
    "### Task 3:\n",
    "Let  KB be the  knowledge base: KB=\n",
    "> (P v Q) ^ (Q -> R) ^ (R -> -P)<br>\n",
    "> -(P <-> - Q)\n",
    "\n",
    "Write a new version of the script above to prove or disprove whether KB is satisfiable or not. You can put both the knowledge base construction (you will have to translate the axioms into CNF by hand before adding them to the KB), the printing of the model and the satisfiability check in the next cell. \n"
   ]
  },
  {
   "cell_type": "code",
   "execution_count": 30,
   "metadata": {},
   "outputs": [
    {
     "name": "stdout",
     "output_type": "stream",
     "text": [
      "False\n"
     ]
    }
   ],
   "source": [
    "# In my answer & stands for conjunction and V stands for disjunction \n",
    "#\n",
    "# Translation of the first formula into CNF\n",
    "#\n",
    "# By implication elimination: (P V Q) & (-Q v R) & (-R V -P)\n",
    "#\n",
    "# The first formula in CNF is given by (P V Q) & (-Q v R) & (-R V -P)\n",
    "#\n",
    "# Translation of the second formula into CNF\n",
    "#\n",
    "# By removing equivalences: -((P -> -Q) & (-Q -> P))\n",
    "# \n",
    "# By implication elimination: -((-P V -Q) & (Q V P))\n",
    "#\n",
    "# By de Morgan: -(-P V -Q) V -(Q V P)\n",
    "# \n",
    "# By de Morgan: (P & Q) V (-Q & -P)\n",
    "# \n",
    "# By moving conjunctions outwards: ((P & Q) V -Q) & ((P & Q) V -P)\n",
    "#\n",
    "# By distributivity: ((P V -Q) & (Q V -Q)) & ((P V -P) & (Q V -P))\n",
    "# \n",
    "# Removing unnecessary conditions: (P V -Q) & (Q V -P)\n",
    "#\n",
    "# The second formula in CNF is given by: (P V -Q) & (Q V -P)\n",
    "\n",
    "# Knowledge Base construction \n",
    "\n",
    "P = Boolean('P')\n",
    "Q = Boolean('Q')\n",
    "R = Boolean('R')\n",
    "\n",
    "# Creating a new knowledge base\n",
    "kb_task_3 = KB()\n",
    "\n",
    "# Add clauses\n",
    "kb_task_3.add_clause(P, Q)\n",
    "kb_task_3.add_clause(~Q, R)\n",
    "kb_task_3.add_clause(~R, ~P)\n",
    "kb_task_3.add_clause(P, ~Q)\n",
    "kb_task_3.add_clause(Q, ~P)\n",
    "\n",
    "# Printing all the models of the knowledge base\n",
    "for model in kb_task_3.models():\n",
    "    print(model)\n",
    "\n",
    "# Checking satisfiability\n",
    "\n",
    "print(kb_task_3.satisfiable())\n"
   ]
  },
  {
   "cell_type": "markdown",
   "metadata": {},
   "source": [
    "### Task 4: \n",
    "We will now work with the following knowledge base KB:\n",
    "\n",
    ">-A -> B <br> \n",
    "> B -> A <br>\n",
    "> A -> (C ^ D)\n",
    "\n",
    "Convert it to clause normal form, and write a script that creates this knowledge base as you did before. There are different subtasks: \n",
    "1) Print out its models and report them. <br>\n",
    "2) The knowledge base entails A ^ C ^ D. Explain in your own words what this says about the possible models for the knowledge base?\n",
    "\n"
   ]
  },
  {
   "cell_type": "code",
   "execution_count": 31,
   "metadata": {},
   "outputs": [],
   "source": [
    "# In my answer & stands for conjunction and V stands for disjunction \n",
    "#\n",
    "# Translation of the first formula into CNF\n",
    "#\n",
    "# By implication elimination: A V B\n",
    "#\n",
    "# The first formula in CNF is given by: A V B\n",
    "#\n",
    "# Translation of the second formula into CNF\n",
    "#\n",
    "# By implication elimination: -B V A\n",
    "# \n",
    "# The second formula in CNF is given by: -B V A\n",
    "#\n",
    "# Translation of the third formula into CNF\n",
    "# \n",
    "# By implication elimination: -A V (C & D)\n",
    "#\n",
    "# By distributivity: (-A V C) & (-A V D)\n",
    "#\n",
    "# The third formula in CNF is given by: (-A V C) & (-A V D)"
   ]
  },
  {
   "cell_type": "code",
   "execution_count": 32,
   "metadata": {},
   "outputs": [],
   "source": [
    "# Knowledge Base construction\n",
    "\n",
    "# Define our symbols\n",
    "A = Boolean('A')\n",
    "B = Boolean('B')\n",
    "C = Boolean('C')\n",
    "D = Boolean('D')\n",
    "\n",
    "# Create a new knowledge base\n",
    "kb_task_4 = KB()\n",
    "\n",
    "# Add clauses\n",
    "kb_task_4.add_clause(A, B)\n",
    "kb_task_4.add_clause(~B, A)\n",
    "kb_task_4.add_clause(~A, C)\n",
    "kb_task_4.add_clause(~A, D)"
   ]
  },
  {
   "cell_type": "code",
   "execution_count": 33,
   "metadata": {},
   "outputs": [
    {
     "name": "stdout",
     "output_type": "stream",
     "text": [
      "{A: True, D: True, C: True, B: False}\n",
      "{A: True, D: True, C: True, B: True}\n"
     ]
    }
   ],
   "source": [
    "# Subtask 1\n",
    "\n",
    "# Print all models of the knowledge base\n",
    "for model in kb_task_4.models():\n",
    "    print(model)\n"
   ]
  },
  {
   "cell_type": "code",
   "execution_count": 34,
   "metadata": {},
   "outputs": [],
   "source": [
    "# The Knowledge Base models are the following: (A = True, B = True, C = True, D = True) and (A = True, B = False, C = True, D = True). This signifies \n",
    "# that, those variable assignment combinations make the Knowledge Base evaluate to true. "
   ]
  },
  {
   "cell_type": "code",
   "execution_count": 35,
   "metadata": {},
   "outputs": [],
   "source": [
    "Report2 = \"\"\"\n",
    "\n",
    "Since the two models of the Knowledge Base are (A = True, B = True, C = True, D = True) and (A = True, B = False, C = True, D = True), I do notice a \n",
    "pattern that leads to the conclusion that the Knowledge Base entails the formula (A & C & D). That tells us an important insight, that is, whichever\n",
    "variable assignment combinations that make the Knowledge Base evaluate to true (models), also make the formula (A & C & D) evaluate to true, regardless\n",
    "of the value assigned to the variable B. That is confirmed by the two models of the Knowledge Base mentioned at the begining, where the value of B is \n",
    "irrelevant as long as the formula (A & C & D) evaluates to true. \n",
    "\n",
    "\"\"\""
   ]
  },
  {
   "cell_type": "markdown",
   "metadata": {},
   "source": [
    "In the previous question, you have shown that A ^ C ^ D is entailed by KB semantically (following the definition of entailment), where you used the prover to give you all the models. Now let us see whether you can actually prove entailment using the SAT solver directly.\n",
    "\n",
    "### Task 5: \n",
    "Show entailment of A ^ C ^ D by a proof by refutation. Write the script like above with the knowledge base your create in the following executable cell, including the control statements. \n"
   ]
  },
  {
   "cell_type": "code",
   "execution_count": 36,
   "metadata": {},
   "outputs": [
    {
     "name": "stdout",
     "output_type": "stream",
     "text": [
      "False\n"
     ]
    }
   ],
   "source": [
    "kb_task_4.add_clause(~A)\n",
    "kb_task_4.add_clause(~C)\n",
    "kb_task_4.add_clause(~D)\n",
    "\n",
    "print(kb_task_4.satisfiable())"
   ]
  },
  {
   "cell_type": "markdown",
   "metadata": {},
   "source": [
    "Explain in your own words what you have done, and what you can conclude from the output of your script for Task 5."
   ]
  },
  {
   "cell_type": "code",
   "execution_count": 37,
   "metadata": {},
   "outputs": [],
   "source": [
    "Report3=\"\"\"\n",
    "\n",
    "My goal was to prove by refutation whether the Knowledge Base entailed the formula (A & C & D) or not. Since all the Knowledge Base formulas were \n",
    "already in CNF, I only had to convert the right-side formula (A & C & D) of the entailment to CNF, however, since it was already in CNF, no calculations\n",
    "were required. Secondly, I proceeded to add the negation of the right-side formula (A & C & D) of the entailment (already in CNF) to the Knowledge Base. \n",
    "By applying the SAT solver directly, the results showed that the Knowledge Base is now unsatisfiable, and thus, I have just proved, by refutation, \n",
    "that the Knowledge Base indeed entails the formula (A & C & D).\n",
    "\n",
    "\"\"\""
   ]
  },
  {
   "cell_type": "markdown",
   "metadata": {},
   "source": [
    "## Final Task: Collect all the results\n",
    "\n",
    "Uncomment and run this cell (and all the cells above) to generate the text file that you have to hand in together with the notebook on canvas!\n",
    "\n",
    "### Please hand in only the text file which is generated by this method!"
   ]
  },
  {
   "cell_type": "code",
   "execution_count": 38,
   "metadata": {},
   "outputs": [],
   "source": [
    "from utils import *\n",
    "exportToText(\"assignment6.txt\", Report1, Report2, Report3)"
   ]
  }
 ],
 "metadata": {
  "kernelspec": {
   "display_name": "Python 3.10.4 ('main_env')",
   "language": "python",
   "name": "python3"
  },
  "language_info": {
   "codemirror_mode": {
    "name": "ipython",
    "version": 3
   },
   "file_extension": ".py",
   "mimetype": "text/x-python",
   "name": "python",
   "nbconvert_exporter": "python",
   "pygments_lexer": "ipython3",
   "version": "3.10.4"
  },
  "vscode": {
   "interpreter": {
    "hash": "08d7406bcc4c8ede7e3b7d9b78083bc28f6be7dbc1b543b9edaca5da1bd54874"
   }
  }
 },
 "nbformat": 4,
 "nbformat_minor": 4
}
