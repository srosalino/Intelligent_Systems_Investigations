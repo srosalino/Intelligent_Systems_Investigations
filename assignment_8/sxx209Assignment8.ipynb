{
 "cells": [
  {
   "cell_type": "markdown",
   "metadata": {},
   "source": [
    "# Intelligent Systems 2022: 8th  practical assignment \n",
    "\n",
    "\n",
    "Your name: Sebastião Manuel Inácio Rosalino\n",
    "\n",
    "Your VUnetID: sxx209\n",
    "\n",
    "If you do not provide your name and VUnetID we will not accept your submission. \n",
    "\n",
    "### Learning objectives\n",
    "At the end of this exercise you should be able to work with some basic fuzzy concepts, and implement and evaluate a simple probabilistic approach to playing Schnapsen. \n",
    "\n",
    "### Preliminaries\n",
    "\n",
    "In this worksheet we will learn some basics about probability theory.\n",
    "\n",
    "\n",
    "### Practicalities\n",
    "\n",
    "Follow this Notebook step-by-step. \n",
    "\n",
    "Of course, you can do the exercises in any Programming Editor of your liking. But you do not have to. Feel free to simply write code in the Notebook. Please use your studentID+Assignment8.ipynb as the name of the Notebook.  \n",
    "\n",
    "Note: unlike the courses dedicated to programming we will not evaluate the style of the programs. But we will, however, test your programs on other data that we provide, and your program should give the correct output to the test-data as well.\n",
    "\n",
    "As was mentioned, the assignment is graded as pass/fail. To pass you need to have either a full working code or an explanation of what you tried and what didn't work for the tasks that you were unable to complete (you can use multi-line comments or a text cell).\n"
   ]
  },
  {
   "cell_type": "markdown",
   "metadata": {},
   "source": [
    "## Probability Theory and Combinatorics"
   ]
  },
  {
   "cell_type": "markdown",
   "metadata": {},
   "source": [
    "### Task 1:\n",
    "\n",
    "In this task, we will work with table that we already used in the lecture.\n",
    "![table](image.png)\n",
    "\n",
    "\n",
    "You are supposed to implement Bayes theorem in its own function. Given the probability P(A), P(B), and P(B|A), you should try to implement a function that prints P(A|B).\n",
    "\n",
    "Use the following probabilities and your Bayes theorem function to compute the probability for P(value>4 = true | diamond):\n",
    "- P(diamond|Value>4=True) = 1/9 \n",
    "- P(diamond) = 4/9  \n",
    "- P(Value>4 = False)= 4/9\n",
    "\n",
    "Adapt the code below such that it can compute the bayes probability and run it."
   ]
  },
  {
   "cell_type": "code",
   "execution_count": 5,
   "metadata": {},
   "outputs": [
    {
     "data": {
      "text/plain": [
       "0.1388888888888889"
      ]
     },
     "execution_count": 5,
     "metadata": {},
     "output_type": "execute_result"
    }
   ],
   "source": [
    "def bayes_theorem(p_a, p_b, p_ba):\n",
    "    #please compute p_ab\n",
    "    p_ab = (p_ba * p_a) / p_b\n",
    "    return(p_ab)\n",
    "\n",
    "#run it with the values from above\n",
    "bayes_theorem(1 - 4/9, 4/9, 1/9)"
   ]
  },
  {
   "cell_type": "markdown",
   "metadata": {},
   "source": [
    "### Joint Probability Distributions\n",
    "\n",
    "In the next tasks, we will compute the joint probability distribution for the three random variables: LowCard(L), Diamond(D), and BlackWedding(B).\n",
    "- LowCards is true for either jacks, queens, and kings\n",
    "- Diamond is true for all cards of the suit diamond\n",
    "- BlackWeeding is true for all black queens and kings: QueenSpades, QueenClubs, KingSpades, KingClubs\n",
    "\n",
    "\n",
    "In the following code snippet, for every card of the game, we first define the three properties (L,D,B) as boolean variables.\n",
    "\n",
    "Afterwards, we define a function that creates a random subset of all cards. These are the unknown cards (cards in the tallon and in the opponents hand) in the game.\n",
    "You can hand over a variable k which determines the size of the random cards which are picked from all cards. The random cards are also printed.\n",
    "\n",
    "In the upcoming tasks, we will compute probabilities for different game situations."
   ]
  },
  {
   "cell_type": "code",
   "execution_count": 6,
   "metadata": {},
   "outputs": [
    {
     "name": "stdout",
     "output_type": "stream",
     "text": [
      "TenDiamonds\n",
      "KingSpades\n",
      "QueenDiamonds\n",
      "JackClubs\n",
      "AceDiamonds\n",
      "QueenHearts\n",
      "TenSpades\n",
      "TenHearts\n",
      "AceSpades\n",
      "KingDiamonds\n",
      "KingClubs\n",
      "JackSpades\n"
     ]
    }
   ],
   "source": [
    "jackHearts = ('JackHearts',True, False, False)\n",
    "jackSpades  = ('JackSpades',True, False, False)\n",
    "jackDiamonds = ('JackDiamonds',True, True, False)\n",
    "jackClubs = ('JackClubs',True, False, False)\n",
    "\n",
    "queenHearts = ('QueenHearts',True, False, False)\n",
    "queenSpades = ('QueenSpades',True, False, True)\n",
    "queenDiamonds = ('QueenDiamonds',True, True, False)\n",
    "queenClubs = ('QueenClubs',True, False, True)\n",
    "\n",
    "kingHearts = ('KingHearts',True, False, False)\n",
    "kingSpades = ('KingSpades',True, False, True)\n",
    "kingDiamonds = ('KingDiamonds',True, True, False)\n",
    "kingClubs = ('KingClubs',True, False, True)\n",
    "\n",
    "tenHearts = ('TenHearts',False, False, False)\n",
    "tenSpades = ('TenSpades',False, False, False)\n",
    "tenDiamonds = ('TenDiamonds',False, True, False)\n",
    "tenClubs = ('TenClubs',False, False, False)\n",
    "\n",
    "aceHearts = ('AceHearts',False, False, False)\n",
    "aceSpades = ('AceSpades',False, False, False)\n",
    "aceDiamonds = ('AceDiamonds',False, True, False)\n",
    "aceClubs = ('AceClubs',False, False, False)\n",
    "\n",
    "allCards = [jackHearts, jackSpades , jackDiamonds, jackClubs, queenHearts, queenSpades, queenDiamonds, queenClubs, kingHearts, kingSpades, kingDiamonds, kingClubs, tenHearts, tenSpades, tenDiamonds, tenClubs, aceHearts, aceSpades, aceDiamonds, aceClubs]\n",
    "\n",
    "import random\n",
    "\n",
    "#number of random cards you want to get from the list\n",
    "k = 12\n",
    "randomCards = random.sample(allCards, k)\n",
    "\n",
    "for card in randomCards:\n",
    "    print(card[0])\n",
    "\n",
    "\n"
   ]
  },
  {
   "cell_type": "markdown",
   "metadata": {},
   "source": [
    "### Task 2\n",
    "\n",
    "In this task, we want to compute the joint probability distribution for the three random variables LowCard(L), Diamond(D), and BlackWedding(B).\n",
    "Instead the distribution for all possible combinations of the random variables, we will code a function which can compute the joint probability for a single combination of random variables.\n",
    "\n",
    "As an example, the you should be able to compute the joint probability P(L=True, D=True, B = False) given a random set of cards.\n",
    "\n",
    "\n",
    "Your task is to complete the next code snippet, such that the function computeJPD computes the joint probability for a random card input and a choice of random variables l,d,b each of them being a boolean variable.\n",
    "\n",
    "*Hint: you probably need more than 1 line of code to do this*\n"
   ]
  },
  {
   "cell_type": "code",
   "execution_count": 7,
   "metadata": {},
   "outputs": [
    {
     "data": {
      "text/plain": [
       "0.16666666666666666"
      ]
     },
     "execution_count": 7,
     "metadata": {},
     "output_type": "execute_result"
    }
   ],
   "source": [
    "def computeJPD(l,d,b,randomCards):\n",
    "\n",
    "    positives = 0\n",
    "    total_number_of_cards = len(randomCards)\n",
    "    \n",
    "    for card in randomCards:\n",
    "        if card[1] is l and card[2] is d and card[3] is b:\n",
    "            positives += 1\n",
    "\n",
    "    jointProbability = positives / total_number_of_cards\n",
    "\n",
    "    return(jointProbability)\n",
    "\n",
    "computeJPD(True, False, True, randomCards)  "
   ]
  },
  {
   "cell_type": "markdown",
   "metadata": {},
   "source": [
    "### Task 3\n",
    "\n",
    "In the next step, we want to compute the probability P(B|I) using the computeJPD function from above. Try to write a  snippet of code and save the computation into the variable p_b_l.\n",
    "\n",
    "Also describe what you did into the MyReport1 variable.\n",
    "\n",
    "*Hint: P(B,) / P(l)*"
   ]
  },
  {
   "cell_type": "code",
   "execution_count": 8,
   "metadata": {},
   "outputs": [
    {
     "name": "stdout",
     "output_type": "stream",
     "text": [
      "0.28571428571428575\n"
     ]
    }
   ],
   "source": [
    "# P(BlackWedding | LowCard) = ( P(LowCard | BlackWedding) * P(BlackWedding) ) / P(LowCard)\n",
    "\n",
    "p_black_wedding = computeJPD(True, True, True, randomCards) + computeJPD(True, False, True, randomCards)\n",
    "\n",
    "p_low_card = 0\n",
    "\n",
    "all_possible_booleans = [True, False]\n",
    "\n",
    "for possible_boolean_first_selection in all_possible_booleans:\n",
    "    for possible_boolean_second_selection in all_possible_booleans:\n",
    "        p_low_card += computeJPD(True, possible_boolean_first_selection, possible_boolean_second_selection, randomCards)\n",
    "\n",
    "p_b_l = (1 * p_black_wedding) / p_low_card\n",
    "\n",
    "print(p_b_l)"
   ]
  },
  {
   "cell_type": "code",
   "execution_count": 9,
   "metadata": {},
   "outputs": [],
   "source": [
    "MyReport1 =\"\"\"\n",
    "\n",
    "Interpreting what I was asked, I am asked to calculate the probability that, when drawing a card from a random set of cards and given it is a LowCard, it \n",
    "is a BlackWedding card. Mathematically speaking this means P(b | l), where b is the event that the card is a BlackWedding and l is the event that the card \n",
    "is a LowCard.\n",
    "\n",
    "To begin with, applying Bayes' theorem, this probability is equivalent to the following expression: ( P(l | b) * P(b) ) / P(l) ). Now, with respect to \n",
    "the portion P(l | b), this is redundant, since, knowing that the card is a BlackWedding, the card will be a LowCard for sure, having, therefore a \n",
    "probability of 1. We are then left with the expression P(b) / P(l).\n",
    "\n",
    "I will now pursuit the result P(b). Using the computeJPD function, P(b) is given by the sum of the results of this function for all combinations\n",
    "of arguments where the argument b is assigned to True. It should be noted that it is not necessary to make this sum exhaustively since, for the \n",
    "cases of interest in which b is true, the argument l will also always be true, leading to the sum of just two situations.\n",
    "\n",
    "Secondly, on the looking for the result of P(l), regarding computeJPD function, the argument l will always be True, however, this does not allow us to\n",
    "infer anything about the remaining two arguments, therefore, I created a special procedure in the previous cell, which will add interactively all the \n",
    "probability outputs obtained by the computeJPD function of all possible combinations of the both possible boolean values that the arguments d and b can \n",
    "assume, always having the argument l (LowCard) set to True.\n",
    "\n",
    "I was finally able to calculate the required probability, which I derived to be mathematically equivalent, in the context of this problem, to P(b) / P(l).\n",
    "\n",
    "\"\"\""
   ]
  },
  {
   "cell_type": "markdown",
   "metadata": {},
   "source": [
    "## Final Task: Collect all the results\n",
    "\n",
    "Uncomment and run this cell (and all the cells above) to generate the text file that you have to hand in together with the notebook on canvas!\n",
    "\n",
    "### Please hand in only the text file which is generated by this method!"
   ]
  },
  {
   "cell_type": "code",
   "execution_count": 10,
   "metadata": {},
   "outputs": [],
   "source": [
    "import inspect\n",
    "source_cjpd = inspect.getsource(computeJPD)\n",
    "source_bayes_theorem= inspect.getsource(bayes_theorem)\n",
    "\n",
    "from utils import *\n",
    "exportToText(\"assignment8.txt\", source_cjpd,source_bayes_theorem, MyReport1)"
   ]
  }
 ],
 "metadata": {
  "kernelspec": {
   "display_name": "Python 3.10.4 ('main_env')",
   "language": "python",
   "name": "python3"
  },
  "language_info": {
   "codemirror_mode": {
    "name": "ipython",
    "version": 3
   },
   "file_extension": ".py",
   "mimetype": "text/x-python",
   "name": "python",
   "nbconvert_exporter": "python",
   "pygments_lexer": "ipython3",
   "version": "3.10.4"
  },
  "vscode": {
   "interpreter": {
    "hash": "08d7406bcc4c8ede7e3b7d9b78083bc28f6be7dbc1b543b9edaca5da1bd54874"
   }
  }
 },
 "nbformat": 4,
 "nbformat_minor": 4
}
